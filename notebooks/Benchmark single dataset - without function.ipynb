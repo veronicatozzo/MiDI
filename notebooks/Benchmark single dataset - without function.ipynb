{
 "cells": [
  {
   "cell_type": "code",
   "execution_count": 2,
   "metadata": {},
   "outputs": [],
   "source": [
    "import numpy as np\n",
    "import pandas as pd\n",
    "import torch\n",
    "from sklearn.model_selection import StratifiedShuffleSplit\n",
    "from sklearn.metrics import balanced_accuracy_score"
   ]
  },
  {
   "cell_type": "code",
   "execution_count": 3,
   "metadata": {},
   "outputs": [],
   "source": [
    "rna_seq = np.load(\"/home/vero/projects/camda/NB/data_cleaned/dataset_rnaseq_genes_145subjects_17072genes.npy\")\n",
    "acgh = np.load(\"/home/vero/projects/camda/NB/data_cleaned/dataset_1mb_aCGH.npy\")\n",
    "clinical = np.load(\"/home/vero/projects/camda/NB/data_cleaned/dataset_clinical_data_for_fit.npy\")\n",
    "\n",
    "stages = np.load(\"/home/vero/projects/camda/NB/data_cleaned/dataset_stages.npy\")\n",
    "stages = np.array(stages).flatten().astype(str)\n",
    "#stages\n",
    "\n",
    "y = np.load(\"/home/vero/projects/camda/NB/data_cleaned/dataset_outputs.npy\")\n",
    "mergeable = pd.read_csv(\"/home/vero/projects/camda/NB/data_cleaned/clinical_data_for_fit.csv\", index_col=0)\n",
    "clinical_HR = pd.read_csv(\"/home/vero/projects/camda/NB/data_cleaned/info_patients_clinical.csv\", \n",
    "                          index_col=0)['high_risk2']\n",
    "clinical_HR.sort_index()\n",
    "HR = clinical_HR.loc[mergeable.index].values\n",
    "HR[np.where(HR=='HR')] = '1'\n",
    "HR = HR.astype(int)"
   ]
  },
  {
   "cell_type": "markdown",
   "metadata": {},
   "source": [
    "# benchmark single dataset"
   ]
  },
  {
   "cell_type": "markdown",
   "metadata": {},
   "source": [
    "## Prediction with RNA-Seq"
   ]
  },
  {
   "cell_type": "code",
   "execution_count": 8,
   "metadata": {},
   "outputs": [],
   "source": [
    "y = y[:,1]"
   ]
  },
  {
   "cell_type": "code",
   "execution_count": 36,
   "metadata": {},
   "outputs": [],
   "source": [
    "columns = ['mean_score_tr', 'std_score_tr', 'mean_score_ts', 'std_score_ts', \n",
    "                                   'parameters', 'scores_tr', 'scores_ts', 'scores_CV']\n",
    "df_results = pd.DataFrame(columns=columns)"
   ]
  },
  {
   "cell_type": "markdown",
   "metadata": {},
   "source": [
    "### results with logistic regression"
   ]
  },
  {
   "cell_type": "code",
   "execution_count": 23,
   "metadata": {},
   "outputs": [],
   "source": [
    "from sklearn.linear_model import LogisticRegressionCV\n",
    "\n",
    "\n",
    "tr_scores = []\n",
    "ts_scores = []\n",
    "parameters = []\n",
    "val_scores = []\n",
    "sss = StratifiedShuffleSplit(n_splits=100)\n",
    "for train, test in sss.split(rna_seq, y):\n",
    "    sss_ = StratifiedKFold(n_splits=3)\n",
    "    x_tr = rna_seq[train,:]\n",
    "    y_tr = y[train]\n",
    "    x_ts = rna_seq[test, :]\n",
    "    y_ts = y[test]\n",
    "    lr = LogisticRegressionCV(Cs=np.logspace(-10,10,50))\n",
    "    lr.fit(x_tr, y_tr)\n",
    "    parameters.append(lr.C_)\n",
    "    val_scores.append(lr.scores_)\n",
    "    tr_scores.append(balanced_accuracy_score(y_tr, lr.predict(x_tr)))\n",
    "    ts_scores.append(balanced_accuracy_score(y_ts, lr.predict(x_ts)))"
   ]
  },
  {
   "cell_type": "code",
   "execution_count": 24,
   "metadata": {},
   "outputs": [
    {
     "name": "stdout",
     "output_type": "stream",
     "text": [
      "0.9980882352941177 0.007961575108023044 0.8320454545454546 0.108575724803148 [array([0.01456348]), array([0.002223]), array([0.002223]), array([0.002223]), array([0.01456348]), array([0.00568987]), array([0.002223]), array([0.00086851]), array([68.6648845]), array([0.00033932]), array([0.00086851]), array([0.00568987]), array([0.03727594]), array([0.00033932]), array([0.00568987]), array([0.01456348]), array([0.01456348]), array([0.00013257]), array([0.00033932]), array([7543.12006335]), array([68.6648845]), array([0.03727594]), array([0.00086851]), array([0.002223]), array([0.09540955]), array([0.002223]), array([0.00033932]), array([175.75106249]), array([0.00086851]), array([0.00013257]), array([0.00086851]), array([2947.05170255]), array([175.75106249]), array([68.6648845]), array([0.00086851]), array([68.6648845]), array([0.01456348]), array([10.48113134]), array([0.00086851]), array([0.00086851]), array([0.00086851]), array([1151.39539933]), array([68.6648845]), array([0.00086851]), array([0.00033932]), array([0.00086851]), array([0.24420531]), array([0.00086851]), array([0.00086851]), array([0.002223]), array([0.00013257]), array([0.00086851]), array([0.00086851]), array([0.00033932]), array([0.00568987]), array([175.75106249]), array([0.00013257]), array([0.24420531]), array([0.00033932]), array([0.00013257]), array([10.48113134]), array([0.00033932]), array([0.002223]), array([1151.39539933]), array([0.00086851]), array([0.00568987]), array([0.00033932]), array([0.00086851]), array([0.00086851]), array([0.00033932]), array([0.00086851]), array([0.002223]), array([0.00568987]), array([0.03727594]), array([0.00033932]), array([0.00033932]), array([0.002223]), array([1.59985872]), array([0.09540955]), array([0.24420531]), array([0.00033932]), array([0.01456348]), array([0.00568987]), array([0.002223]), array([0.00086851]), array([0.00086851]), array([0.00086851]), array([0.00033932]), array([2947.05170255]), array([1151.39539933]), array([0.03727594]), array([0.00033932]), array([0.09540955]), array([4.09491506]), array([0.00568987]), array([0.00033932]), array([0.00033932]), array([4.09491506]), array([0.002223]), array([0.00568987])]\n"
     ]
    }
   ],
   "source": [
    "means_tr = np.mean(tr_scores)\n",
    "std_tr = np.std(tr_scores)\n",
    "means_ts = np.mean(ts_scores)\n",
    "std_ts = np.std(ts_scores)\n",
    "print(means_tr, std_tr, means_ts, std_ts, parameters)"
   ]
  },
  {
   "cell_type": "code",
   "execution_count": 37,
   "metadata": {},
   "outputs": [],
   "source": [
    "res = pd.DataFrame([[means_tr, std_tr, means_ts, std_ts, parameters, tr_scores, ts_scores, val_scores]],\n",
    "                   columns=columns, index=['Logisticregression'])\n",
    "df_results = df_results.append(res)"
   ]
  },
  {
   "cell_type": "markdown",
   "metadata": {},
   "source": [
    "### results with Ridge"
   ]
  },
  {
   "cell_type": "code",
   "execution_count": 40,
   "metadata": {},
   "outputs": [],
   "source": [
    "from sklearn.linear_model import RidgeClassifierCV\n",
    "\n",
    "\n",
    "tr_scores = []\n",
    "ts_scores = []\n",
    "parameters = []\n",
    "val_scores = []\n",
    "sss = StratifiedShuffleSplit(n_splits=100)\n",
    "for train, test in sss.split(rna_seq, y):\n",
    "    sss_ = StratifiedKFold(n_splits=3)\n",
    "    x_tr = rna_seq[train,:]\n",
    "    y_tr = y[train]\n",
    "    x_ts = rna_seq[test, :]\n",
    "    y_ts = y[test]\n",
    "    model = RidgeClassifierCV(alphas=np.logspace(-10,10,50), store_cv_values=True)\n",
    "    model.fit(x_tr, y_tr)\n",
    "    parameters.append(model.alpha_)\n",
    "    val_scores.append(model.cv_values_)\n",
    "    tr_scores.append(balanced_accuracy_score(y_tr, model.predict(x_tr)))\n",
    "    ts_scores.append(balanced_accuracy_score(y_ts, model.predict(x_ts)))\n",
    "    "
   ]
  },
  {
   "cell_type": "code",
   "execution_count": 41,
   "metadata": {},
   "outputs": [
    {
     "name": "stdout",
     "output_type": "stream",
     "text": [
      "1.0 0.0 0.8345454545454547 0.10558181974732689\n"
     ]
    }
   ],
   "source": [
    "means_tr = np.mean(tr_scores)\n",
    "std_tr = np.std(tr_scores)\n",
    "means_ts = np.mean(ts_scores)\n",
    "std_ts = np.std(ts_scores)\n",
    "print(means_tr, std_tr, means_ts, std_ts)"
   ]
  },
  {
   "cell_type": "code",
   "execution_count": 42,
   "metadata": {},
   "outputs": [],
   "source": [
    "res = pd.DataFrame([[means_tr, std_tr, means_ts, std_ts, parameters, tr_scores, ts_scores, val_scores]],\n",
    "                   columns=columns, index=['RidgeClassifier'])\n",
    "df_results = df_results.append(res)"
   ]
  },
  {
   "cell_type": "markdown",
   "metadata": {},
   "source": [
    "### results with SVM"
   ]
  },
  {
   "cell_type": "code",
   "execution_count": 60,
   "metadata": {},
   "outputs": [],
   "source": [
    "from sklearn.svm import LinearSVC\n",
    "from sklearn.model_selection import GridSearchCV\n",
    "\n",
    "\n",
    "tr_scores = []\n",
    "ts_scores = []\n",
    "parameters = []\n",
    "val_scores = []\n",
    "sss = StratifiedShuffleSplit(n_splits=100)\n",
    "for train, test in sss.split(rna_seq, y):\n",
    "    sss_ = StratifiedKFold(n_splits=3)\n",
    "    x_tr = rna_seq[train,:]\n",
    "    y_tr = y[train]\n",
    "    x_ts = rna_seq[test, :]\n",
    "    y_ts = y[test]\n",
    "    model = LinearSVC()\n",
    "    gscv = GridSearchCV(model, {'C':np.logspace(-10,10,50)}, cv=3)\n",
    "    gscv.fit(x_tr, y_tr)\n",
    "    model = gscv.best_estimator_\n",
    "    parameters.append(gscv.best_params_['C'])\n",
    "    val_scores.append(gscv.cv_results_)\n",
    "    tr_scores.append(balanced_accuracy_score(y_tr, model.predict(x_tr)))\n",
    "    ts_scores.append(balanced_accuracy_score(y_ts, model.predict(x_ts)))\n",
    "    "
   ]
  },
  {
   "cell_type": "code",
   "execution_count": 61,
   "metadata": {},
   "outputs": [
    {
     "name": "stdout",
     "output_type": "stream",
     "text": [
      "0.9946537990196078 0.011555353563578683 0.8415909090909091 0.11065194668773398\n"
     ]
    }
   ],
   "source": [
    "means_tr = np.mean(tr_scores)\n",
    "std_tr = np.std(tr_scores)\n",
    "means_ts = np.mean(ts_scores)\n",
    "std_ts = np.std(ts_scores)\n",
    "print(means_tr, std_tr, means_ts, std_ts)"
   ]
  },
  {
   "cell_type": "code",
   "execution_count": 62,
   "metadata": {},
   "outputs": [],
   "source": [
    "es = pd.DataFrame([[means_tr, std_tr, means_ts, std_ts, parameters, tr_scores, ts_scores, val_scores]],\n",
    "                   columns=columns, index=['SVM-l2'])\n",
    "df_results = df_results.append(es)"
   ]
  },
  {
   "cell_type": "code",
   "execution_count": 64,
   "metadata": {},
   "outputs": [
    {
     "data": {
      "text/html": [
       "<div>\n",
       "<style scoped>\n",
       "    .dataframe tbody tr th:only-of-type {\n",
       "        vertical-align: middle;\n",
       "    }\n",
       "\n",
       "    .dataframe tbody tr th {\n",
       "        vertical-align: top;\n",
       "    }\n",
       "\n",
       "    .dataframe thead th {\n",
       "        text-align: right;\n",
       "    }\n",
       "</style>\n",
       "<table border=\"1\" class=\"dataframe\">\n",
       "  <thead>\n",
       "    <tr style=\"text-align: right;\">\n",
       "      <th></th>\n",
       "      <th>mean_score_tr</th>\n",
       "      <th>std_score_tr</th>\n",
       "      <th>mean_score_ts</th>\n",
       "      <th>std_score_ts</th>\n",
       "      <th>parameters</th>\n",
       "      <th>scores_tr</th>\n",
       "      <th>scores_ts</th>\n",
       "      <th>scores_CV</th>\n",
       "    </tr>\n",
       "  </thead>\n",
       "  <tbody>\n",
       "    <tr>\n",
       "      <th>Logisticregression</th>\n",
       "      <td>0.998088</td>\n",
       "      <td>0.007962</td>\n",
       "      <td>0.832045</td>\n",
       "      <td>0.108576</td>\n",
       "      <td>[[0.014563484775012445], [0.002222996482526195...</td>\n",
       "      <td>[1.0, 1.0, 1.0, 1.0, 1.0, 1.0, 1.0, 1.0, 1.0, ...</td>\n",
       "      <td>[0.7840909090909092, 0.5795454545454546, 0.875...</td>\n",
       "      <td>[{1: [[0.72727273 0.72727273 0.72727273 0.7272...</td>\n",
       "    </tr>\n",
       "    <tr>\n",
       "      <th>RidgeClassifier</th>\n",
       "      <td>1.000000</td>\n",
       "      <td>0.000000</td>\n",
       "      <td>0.834545</td>\n",
       "      <td>0.105582</td>\n",
       "      <td>[19306.977288832535, 7543.120063354608, 19306....</td>\n",
       "      <td>[1.0, 1.0, 1.0, 1.0, 1.0, 1.0, 1.0, 1.0, 1.0, ...</td>\n",
       "      <td>[0.75, 0.8295454545454546, 0.9545454545454546,...</td>\n",
       "      <td>[[[[0.0467198  0.0467198  0.0467198  0.0467198...</td>\n",
       "    </tr>\n",
       "    <tr>\n",
       "      <th>RidgeClassifier</th>\n",
       "      <td>1.000000</td>\n",
       "      <td>0.000000</td>\n",
       "      <td>0.834545</td>\n",
       "      <td>0.105582</td>\n",
       "      <td>[19306.977288832535, 7543.120063354608, 19306....</td>\n",
       "      <td>[1.0, 1.0, 1.0, 1.0, 1.0, 1.0, 1.0, 1.0, 1.0, ...</td>\n",
       "      <td>[0.75, 0.8295454545454546, 0.9545454545454546,...</td>\n",
       "      <td>[[[[0.0467198  0.0467198  0.0467198  0.0467198...</td>\n",
       "    </tr>\n",
       "    <tr>\n",
       "      <th>SVM-l2</th>\n",
       "      <td>0.997757</td>\n",
       "      <td>0.009187</td>\n",
       "      <td>0.753409</td>\n",
       "      <td>0.101340</td>\n",
       "      <td>[77, 59, 31, 27, 87, 83, 41, 9, 9, 21, 25, 47,...</td>\n",
       "      <td>[1.0, 1.0, 1.0, 0.9852941176470589, 1.0, 1.0, ...</td>\n",
       "      <td>[0.8295454545454546, 0.875, 0.625, 0.784090909...</td>\n",
       "      <td>[{'mean_fit_time': [0.01038829485575358, 0.013...</td>\n",
       "    </tr>\n",
       "    <tr>\n",
       "      <th>RF</th>\n",
       "      <td>0.997757</td>\n",
       "      <td>0.009187</td>\n",
       "      <td>0.753409</td>\n",
       "      <td>0.101340</td>\n",
       "      <td>[77, 59, 31, 27, 87, 83, 41, 9, 9, 21, 25, 47,...</td>\n",
       "      <td>[1.0, 1.0, 1.0, 0.9852941176470589, 1.0, 1.0, ...</td>\n",
       "      <td>[0.8295454545454546, 0.875, 0.625, 0.784090909...</td>\n",
       "      <td>[{'mean_fit_time': [0.01038829485575358, 0.013...</td>\n",
       "    </tr>\n",
       "    <tr>\n",
       "      <th>SVM-l2</th>\n",
       "      <td>0.994654</td>\n",
       "      <td>0.011555</td>\n",
       "      <td>0.841591</td>\n",
       "      <td>0.110652</td>\n",
       "      <td>[5.1794746792312125e-05, 7.906043210907702e-06...</td>\n",
       "      <td>[1.0, 0.9411764705882353, 0.9852941176470589, ...</td>\n",
       "      <td>[0.6931818181818181, 0.8295454545454546, 0.909...</td>\n",
       "      <td>[{'mean_fit_time': [0.03692324956258138, 0.031...</td>\n",
       "    </tr>\n",
       "  </tbody>\n",
       "</table>\n",
       "</div>"
      ],
      "text/plain": [
       "                    mean_score_tr  std_score_tr  mean_score_ts  std_score_ts  \\\n",
       "Logisticregression       0.998088      0.007962       0.832045      0.108576   \n",
       "RidgeClassifier          1.000000      0.000000       0.834545      0.105582   \n",
       "RidgeClassifier          1.000000      0.000000       0.834545      0.105582   \n",
       "SVM-l2                   0.997757      0.009187       0.753409      0.101340   \n",
       "RF                       0.997757      0.009187       0.753409      0.101340   \n",
       "SVM-l2                   0.994654      0.011555       0.841591      0.110652   \n",
       "\n",
       "                                                           parameters  \\\n",
       "Logisticregression  [[0.014563484775012445], [0.002222996482526195...   \n",
       "RidgeClassifier     [19306.977288832535, 7543.120063354608, 19306....   \n",
       "RidgeClassifier     [19306.977288832535, 7543.120063354608, 19306....   \n",
       "SVM-l2              [77, 59, 31, 27, 87, 83, 41, 9, 9, 21, 25, 47,...   \n",
       "RF                  [77, 59, 31, 27, 87, 83, 41, 9, 9, 21, 25, 47,...   \n",
       "SVM-l2              [5.1794746792312125e-05, 7.906043210907702e-06...   \n",
       "\n",
       "                                                            scores_tr  \\\n",
       "Logisticregression  [1.0, 1.0, 1.0, 1.0, 1.0, 1.0, 1.0, 1.0, 1.0, ...   \n",
       "RidgeClassifier     [1.0, 1.0, 1.0, 1.0, 1.0, 1.0, 1.0, 1.0, 1.0, ...   \n",
       "RidgeClassifier     [1.0, 1.0, 1.0, 1.0, 1.0, 1.0, 1.0, 1.0, 1.0, ...   \n",
       "SVM-l2              [1.0, 1.0, 1.0, 0.9852941176470589, 1.0, 1.0, ...   \n",
       "RF                  [1.0, 1.0, 1.0, 0.9852941176470589, 1.0, 1.0, ...   \n",
       "SVM-l2              [1.0, 0.9411764705882353, 0.9852941176470589, ...   \n",
       "\n",
       "                                                            scores_ts  \\\n",
       "Logisticregression  [0.7840909090909092, 0.5795454545454546, 0.875...   \n",
       "RidgeClassifier     [0.75, 0.8295454545454546, 0.9545454545454546,...   \n",
       "RidgeClassifier     [0.75, 0.8295454545454546, 0.9545454545454546,...   \n",
       "SVM-l2              [0.8295454545454546, 0.875, 0.625, 0.784090909...   \n",
       "RF                  [0.8295454545454546, 0.875, 0.625, 0.784090909...   \n",
       "SVM-l2              [0.6931818181818181, 0.8295454545454546, 0.909...   \n",
       "\n",
       "                                                            scores_CV  \n",
       "Logisticregression  [{1: [[0.72727273 0.72727273 0.72727273 0.7272...  \n",
       "RidgeClassifier     [[[[0.0467198  0.0467198  0.0467198  0.0467198...  \n",
       "RidgeClassifier     [[[[0.0467198  0.0467198  0.0467198  0.0467198...  \n",
       "SVM-l2              [{'mean_fit_time': [0.01038829485575358, 0.013...  \n",
       "RF                  [{'mean_fit_time': [0.01038829485575358, 0.013...  \n",
       "SVM-l2              [{'mean_fit_time': [0.03692324956258138, 0.031...  "
      ]
     },
     "execution_count": 64,
     "metadata": {},
     "output_type": "execute_result"
    }
   ],
   "source": [
    "df_results"
   ]
  },
  {
   "cell_type": "markdown",
   "metadata": {},
   "source": [
    "### results with Random Forest"
   ]
  },
  {
   "cell_type": "code",
   "execution_count": 53,
   "metadata": {},
   "outputs": [],
   "source": [
    "from sklearn.ensemble import RandomForestClassifier\n",
    "\n",
    "tr_scores = []\n",
    "ts_scores = []\n",
    "parameters = []\n",
    "val_scores = []\n",
    "sss = StratifiedShuffleSplit(n_splits=100)\n",
    "for train, test in sss.split(rna_seq, y):\n",
    "    sss_ = StratifiedKFold(n_splits=3)\n",
    "    x_tr = rna_seq[train,:]\n",
    "    y_tr = y[train]\n",
    "    x_ts = rna_seq[test, :]\n",
    "    y_ts = y[test]\n",
    "    model = RandomForestClassifier()\n",
    "    gscv = GridSearchCV(model, {'n_estimators':np.array(np.linspace(1,100,50)).astype(int)}, cv=3)\n",
    "    gscv.fit(x_tr, y_tr)\n",
    "    model = gscv.best_estimator_\n",
    "    parameters.append(gscv.best_params_['n_estimators'])\n",
    "    val_scores.append(gscv.cv_results_)\n",
    "    tr_scores.append(balanced_accuracy_score(y_tr, model.predict(x_tr)))\n",
    "    ts_scores.append(balanced_accuracy_score(y_ts, model.predict(x_ts)))"
   ]
  },
  {
   "cell_type": "code",
   "execution_count": 54,
   "metadata": {},
   "outputs": [
    {
     "name": "stdout",
     "output_type": "stream",
     "text": [
      "0.9977573529411764 0.009187487004596567 0.7534090909090909 0.10134044781643882\n"
     ]
    }
   ],
   "source": [
    "means_tr = np.mean(tr_scores)\n",
    "std_tr = np.std(tr_scores)\n",
    "means_ts = np.mean(ts_scores)\n",
    "std_ts = np.std(ts_scores)\n",
    "print(means_tr, std_tr, means_ts, std_ts)"
   ]
  },
  {
   "cell_type": "code",
   "execution_count": 58,
   "metadata": {},
   "outputs": [],
   "source": [
    "res = pd.DataFrame([[means_tr, std_tr, means_ts, std_ts, parameters, tr_scores, ts_scores, val_scores]],\n",
    "                   columns=columns, index=['RF'])\n",
    "df_results = df_results.append(res)"
   ]
  },
  {
   "cell_type": "code",
   "execution_count": 59,
   "metadata": {},
   "outputs": [
    {
     "data": {
      "text/html": [
       "<div>\n",
       "<style scoped>\n",
       "    .dataframe tbody tr th:only-of-type {\n",
       "        vertical-align: middle;\n",
       "    }\n",
       "\n",
       "    .dataframe tbody tr th {\n",
       "        vertical-align: top;\n",
       "    }\n",
       "\n",
       "    .dataframe thead th {\n",
       "        text-align: right;\n",
       "    }\n",
       "</style>\n",
       "<table border=\"1\" class=\"dataframe\">\n",
       "  <thead>\n",
       "    <tr style=\"text-align: right;\">\n",
       "      <th></th>\n",
       "      <th>mean_score_tr</th>\n",
       "      <th>std_score_tr</th>\n",
       "      <th>mean_score_ts</th>\n",
       "      <th>std_score_ts</th>\n",
       "      <th>parameters</th>\n",
       "      <th>scores_tr</th>\n",
       "      <th>scores_ts</th>\n",
       "      <th>scores_CV</th>\n",
       "    </tr>\n",
       "  </thead>\n",
       "  <tbody>\n",
       "    <tr>\n",
       "      <th>Logisticregression</th>\n",
       "      <td>0.998088</td>\n",
       "      <td>0.007962</td>\n",
       "      <td>0.832045</td>\n",
       "      <td>0.108576</td>\n",
       "      <td>[[0.014563484775012445], [0.002222996482526195...</td>\n",
       "      <td>[1.0, 1.0, 1.0, 1.0, 1.0, 1.0, 1.0, 1.0, 1.0, ...</td>\n",
       "      <td>[0.7840909090909092, 0.5795454545454546, 0.875...</td>\n",
       "      <td>[{1: [[0.72727273 0.72727273 0.72727273 0.7272...</td>\n",
       "    </tr>\n",
       "    <tr>\n",
       "      <th>RidgeClassifier</th>\n",
       "      <td>1.000000</td>\n",
       "      <td>0.000000</td>\n",
       "      <td>0.834545</td>\n",
       "      <td>0.105582</td>\n",
       "      <td>[19306.977288832535, 7543.120063354608, 19306....</td>\n",
       "      <td>[1.0, 1.0, 1.0, 1.0, 1.0, 1.0, 1.0, 1.0, 1.0, ...</td>\n",
       "      <td>[0.75, 0.8295454545454546, 0.9545454545454546,...</td>\n",
       "      <td>[[[[0.0467198  0.0467198  0.0467198  0.0467198...</td>\n",
       "    </tr>\n",
       "    <tr>\n",
       "      <th>RidgeClassifier</th>\n",
       "      <td>1.000000</td>\n",
       "      <td>0.000000</td>\n",
       "      <td>0.834545</td>\n",
       "      <td>0.105582</td>\n",
       "      <td>[19306.977288832535, 7543.120063354608, 19306....</td>\n",
       "      <td>[1.0, 1.0, 1.0, 1.0, 1.0, 1.0, 1.0, 1.0, 1.0, ...</td>\n",
       "      <td>[0.75, 0.8295454545454546, 0.9545454545454546,...</td>\n",
       "      <td>[[[[0.0467198  0.0467198  0.0467198  0.0467198...</td>\n",
       "    </tr>\n",
       "    <tr>\n",
       "      <th>SVM-l2</th>\n",
       "      <td>0.997757</td>\n",
       "      <td>0.009187</td>\n",
       "      <td>0.753409</td>\n",
       "      <td>0.101340</td>\n",
       "      <td>[77, 59, 31, 27, 87, 83, 41, 9, 9, 21, 25, 47,...</td>\n",
       "      <td>[1.0, 1.0, 1.0, 0.9852941176470589, 1.0, 1.0, ...</td>\n",
       "      <td>[0.8295454545454546, 0.875, 0.625, 0.784090909...</td>\n",
       "      <td>[{'mean_fit_time': [0.01038829485575358, 0.013...</td>\n",
       "    </tr>\n",
       "    <tr>\n",
       "      <th>RF</th>\n",
       "      <td>0.997757</td>\n",
       "      <td>0.009187</td>\n",
       "      <td>0.753409</td>\n",
       "      <td>0.101340</td>\n",
       "      <td>[77, 59, 31, 27, 87, 83, 41, 9, 9, 21, 25, 47,...</td>\n",
       "      <td>[1.0, 1.0, 1.0, 0.9852941176470589, 1.0, 1.0, ...</td>\n",
       "      <td>[0.8295454545454546, 0.875, 0.625, 0.784090909...</td>\n",
       "      <td>[{'mean_fit_time': [0.01038829485575358, 0.013...</td>\n",
       "    </tr>\n",
       "  </tbody>\n",
       "</table>\n",
       "</div>"
      ],
      "text/plain": [
       "                    mean_score_tr  std_score_tr  mean_score_ts  std_score_ts  \\\n",
       "Logisticregression       0.998088      0.007962       0.832045      0.108576   \n",
       "RidgeClassifier          1.000000      0.000000       0.834545      0.105582   \n",
       "RidgeClassifier          1.000000      0.000000       0.834545      0.105582   \n",
       "SVM-l2                   0.997757      0.009187       0.753409      0.101340   \n",
       "RF                       0.997757      0.009187       0.753409      0.101340   \n",
       "\n",
       "                                                           parameters  \\\n",
       "Logisticregression  [[0.014563484775012445], [0.002222996482526195...   \n",
       "RidgeClassifier     [19306.977288832535, 7543.120063354608, 19306....   \n",
       "RidgeClassifier     [19306.977288832535, 7543.120063354608, 19306....   \n",
       "SVM-l2              [77, 59, 31, 27, 87, 83, 41, 9, 9, 21, 25, 47,...   \n",
       "RF                  [77, 59, 31, 27, 87, 83, 41, 9, 9, 21, 25, 47,...   \n",
       "\n",
       "                                                            scores_tr  \\\n",
       "Logisticregression  [1.0, 1.0, 1.0, 1.0, 1.0, 1.0, 1.0, 1.0, 1.0, ...   \n",
       "RidgeClassifier     [1.0, 1.0, 1.0, 1.0, 1.0, 1.0, 1.0, 1.0, 1.0, ...   \n",
       "RidgeClassifier     [1.0, 1.0, 1.0, 1.0, 1.0, 1.0, 1.0, 1.0, 1.0, ...   \n",
       "SVM-l2              [1.0, 1.0, 1.0, 0.9852941176470589, 1.0, 1.0, ...   \n",
       "RF                  [1.0, 1.0, 1.0, 0.9852941176470589, 1.0, 1.0, ...   \n",
       "\n",
       "                                                            scores_ts  \\\n",
       "Logisticregression  [0.7840909090909092, 0.5795454545454546, 0.875...   \n",
       "RidgeClassifier     [0.75, 0.8295454545454546, 0.9545454545454546,...   \n",
       "RidgeClassifier     [0.75, 0.8295454545454546, 0.9545454545454546,...   \n",
       "SVM-l2              [0.8295454545454546, 0.875, 0.625, 0.784090909...   \n",
       "RF                  [0.8295454545454546, 0.875, 0.625, 0.784090909...   \n",
       "\n",
       "                                                            scores_CV  \n",
       "Logisticregression  [{1: [[0.72727273 0.72727273 0.72727273 0.7272...  \n",
       "RidgeClassifier     [[[[0.0467198  0.0467198  0.0467198  0.0467198...  \n",
       "RidgeClassifier     [[[[0.0467198  0.0467198  0.0467198  0.0467198...  \n",
       "SVM-l2              [{'mean_fit_time': [0.01038829485575358, 0.013...  \n",
       "RF                  [{'mean_fit_time': [0.01038829485575358, 0.013...  "
      ]
     },
     "execution_count": 59,
     "metadata": {},
     "output_type": "execute_result"
    }
   ],
   "source": [
    "df_results"
   ]
  },
  {
   "cell_type": "code",
   "execution_count": 65,
   "metadata": {},
   "outputs": [],
   "source": [
    "df_results_new = df_results.iloc[[0,1,4,5], :]"
   ]
  },
  {
   "cell_type": "code",
   "execution_count": 66,
   "metadata": {},
   "outputs": [
    {
     "data": {
      "text/html": [
       "<div>\n",
       "<style scoped>\n",
       "    .dataframe tbody tr th:only-of-type {\n",
       "        vertical-align: middle;\n",
       "    }\n",
       "\n",
       "    .dataframe tbody tr th {\n",
       "        vertical-align: top;\n",
       "    }\n",
       "\n",
       "    .dataframe thead th {\n",
       "        text-align: right;\n",
       "    }\n",
       "</style>\n",
       "<table border=\"1\" class=\"dataframe\">\n",
       "  <thead>\n",
       "    <tr style=\"text-align: right;\">\n",
       "      <th></th>\n",
       "      <th>mean_score_tr</th>\n",
       "      <th>std_score_tr</th>\n",
       "      <th>mean_score_ts</th>\n",
       "      <th>std_score_ts</th>\n",
       "      <th>parameters</th>\n",
       "      <th>scores_tr</th>\n",
       "      <th>scores_ts</th>\n",
       "      <th>scores_CV</th>\n",
       "    </tr>\n",
       "  </thead>\n",
       "  <tbody>\n",
       "    <tr>\n",
       "      <th>Logisticregression</th>\n",
       "      <td>0.998088</td>\n",
       "      <td>0.007962</td>\n",
       "      <td>0.832045</td>\n",
       "      <td>0.108576</td>\n",
       "      <td>[[0.014563484775012445], [0.002222996482526195...</td>\n",
       "      <td>[1.0, 1.0, 1.0, 1.0, 1.0, 1.0, 1.0, 1.0, 1.0, ...</td>\n",
       "      <td>[0.7840909090909092, 0.5795454545454546, 0.875...</td>\n",
       "      <td>[{1: [[0.72727273 0.72727273 0.72727273 0.7272...</td>\n",
       "    </tr>\n",
       "    <tr>\n",
       "      <th>RidgeClassifier</th>\n",
       "      <td>1.000000</td>\n",
       "      <td>0.000000</td>\n",
       "      <td>0.834545</td>\n",
       "      <td>0.105582</td>\n",
       "      <td>[19306.977288832535, 7543.120063354608, 19306....</td>\n",
       "      <td>[1.0, 1.0, 1.0, 1.0, 1.0, 1.0, 1.0, 1.0, 1.0, ...</td>\n",
       "      <td>[0.75, 0.8295454545454546, 0.9545454545454546,...</td>\n",
       "      <td>[[[[0.0467198  0.0467198  0.0467198  0.0467198...</td>\n",
       "    </tr>\n",
       "    <tr>\n",
       "      <th>RF</th>\n",
       "      <td>0.997757</td>\n",
       "      <td>0.009187</td>\n",
       "      <td>0.753409</td>\n",
       "      <td>0.101340</td>\n",
       "      <td>[77, 59, 31, 27, 87, 83, 41, 9, 9, 21, 25, 47,...</td>\n",
       "      <td>[1.0, 1.0, 1.0, 0.9852941176470589, 1.0, 1.0, ...</td>\n",
       "      <td>[0.8295454545454546, 0.875, 0.625, 0.784090909...</td>\n",
       "      <td>[{'mean_fit_time': [0.01038829485575358, 0.013...</td>\n",
       "    </tr>\n",
       "    <tr>\n",
       "      <th>SVM-l2</th>\n",
       "      <td>0.994654</td>\n",
       "      <td>0.011555</td>\n",
       "      <td>0.841591</td>\n",
       "      <td>0.110652</td>\n",
       "      <td>[5.1794746792312125e-05, 7.906043210907702e-06...</td>\n",
       "      <td>[1.0, 0.9411764705882353, 0.9852941176470589, ...</td>\n",
       "      <td>[0.6931818181818181, 0.8295454545454546, 0.909...</td>\n",
       "      <td>[{'mean_fit_time': [0.03692324956258138, 0.031...</td>\n",
       "    </tr>\n",
       "  </tbody>\n",
       "</table>\n",
       "</div>"
      ],
      "text/plain": [
       "                    mean_score_tr  std_score_tr  mean_score_ts  std_score_ts  \\\n",
       "Logisticregression       0.998088      0.007962       0.832045      0.108576   \n",
       "RidgeClassifier          1.000000      0.000000       0.834545      0.105582   \n",
       "RF                       0.997757      0.009187       0.753409      0.101340   \n",
       "SVM-l2                   0.994654      0.011555       0.841591      0.110652   \n",
       "\n",
       "                                                           parameters  \\\n",
       "Logisticregression  [[0.014563484775012445], [0.002222996482526195...   \n",
       "RidgeClassifier     [19306.977288832535, 7543.120063354608, 19306....   \n",
       "RF                  [77, 59, 31, 27, 87, 83, 41, 9, 9, 21, 25, 47,...   \n",
       "SVM-l2              [5.1794746792312125e-05, 7.906043210907702e-06...   \n",
       "\n",
       "                                                            scores_tr  \\\n",
       "Logisticregression  [1.0, 1.0, 1.0, 1.0, 1.0, 1.0, 1.0, 1.0, 1.0, ...   \n",
       "RidgeClassifier     [1.0, 1.0, 1.0, 1.0, 1.0, 1.0, 1.0, 1.0, 1.0, ...   \n",
       "RF                  [1.0, 1.0, 1.0, 0.9852941176470589, 1.0, 1.0, ...   \n",
       "SVM-l2              [1.0, 0.9411764705882353, 0.9852941176470589, ...   \n",
       "\n",
       "                                                            scores_ts  \\\n",
       "Logisticregression  [0.7840909090909092, 0.5795454545454546, 0.875...   \n",
       "RidgeClassifier     [0.75, 0.8295454545454546, 0.9545454545454546,...   \n",
       "RF                  [0.8295454545454546, 0.875, 0.625, 0.784090909...   \n",
       "SVM-l2              [0.6931818181818181, 0.8295454545454546, 0.909...   \n",
       "\n",
       "                                                            scores_CV  \n",
       "Logisticregression  [{1: [[0.72727273 0.72727273 0.72727273 0.7272...  \n",
       "RidgeClassifier     [[[[0.0467198  0.0467198  0.0467198  0.0467198...  \n",
       "RF                  [{'mean_fit_time': [0.01038829485575358, 0.013...  \n",
       "SVM-l2              [{'mean_fit_time': [0.03692324956258138, 0.031...  "
      ]
     },
     "execution_count": 66,
     "metadata": {},
     "output_type": "execute_result"
    }
   ],
   "source": [
    "df_results_new"
   ]
  },
  {
   "cell_type": "code",
   "execution_count": 74,
   "metadata": {},
   "outputs": [],
   "source": [
    "a = np.linspace(1,100,5).astype(int)"
   ]
  },
  {
   "cell_type": "code",
   "execution_count": 77,
   "metadata": {},
   "outputs": [],
   "source": [
    "b = [a]*4"
   ]
  },
  {
   "cell_type": "code",
   "execution_count": 78,
   "metadata": {},
   "outputs": [
    {
     "data": {
      "text/plain": [
       "[array([  1,  25,  50,  75, 100]),\n",
       " array([  1,  25,  50,  75, 100]),\n",
       " array([  1,  25,  50,  75, 100]),\n",
       " array([  1,  25,  50,  75, 100])]"
      ]
     },
     "execution_count": 78,
     "metadata": {},
     "output_type": "execute_result"
    }
   ],
   "source": [
    "b"
   ]
  },
  {
   "cell_type": "code",
   "execution_count": 79,
   "metadata": {},
   "outputs": [],
   "source": [
    "from sklearn.utils import check_random_state\n",
    "rs = check_random_state(1)\n"
   ]
  },
  {
   "cell_type": "code",
   "execution_count": 98,
   "metadata": {},
   "outputs": [],
   "source": [
    "X = [np.zeros((15,1)).T for i in np.linspace(10,40,10).astype(int)]"
   ]
  },
  {
   "cell_type": "code",
   "execution_count": 87,
   "metadata": {},
   "outputs": [],
   "source": [
    "w_i = [np.zeros(p_i) for p_i in [X_i.shape[1] for X_i in X]]"
   ]
  },
  {
   "cell_type": "code",
   "execution_count": 88,
   "metadata": {},
   "outputs": [
    {
     "data": {
      "text/plain": [
       "[array([0., 0., 0., 0., 0., 0., 0., 0., 0., 0.]),\n",
       " array([0., 0., 0., 0., 0., 0., 0., 0., 0., 0., 0., 0., 0.]),\n",
       " array([0., 0., 0., 0., 0., 0., 0., 0., 0., 0., 0., 0., 0., 0., 0., 0.]),\n",
       " array([0., 0., 0., 0., 0., 0., 0., 0., 0., 0., 0., 0., 0., 0., 0., 0., 0.,\n",
       "        0., 0., 0.]),\n",
       " array([0., 0., 0., 0., 0., 0., 0., 0., 0., 0., 0., 0., 0., 0., 0., 0., 0.,\n",
       "        0., 0., 0., 0., 0., 0.]),\n",
       " array([0., 0., 0., 0., 0., 0., 0., 0., 0., 0., 0., 0., 0., 0., 0., 0., 0.,\n",
       "        0., 0., 0., 0., 0., 0., 0., 0., 0.]),\n",
       " array([0., 0., 0., 0., 0., 0., 0., 0., 0., 0., 0., 0., 0., 0., 0., 0., 0.,\n",
       "        0., 0., 0., 0., 0., 0., 0., 0., 0., 0., 0., 0., 0.]),\n",
       " array([0., 0., 0., 0., 0., 0., 0., 0., 0., 0., 0., 0., 0., 0., 0., 0., 0.,\n",
       "        0., 0., 0., 0., 0., 0., 0., 0., 0., 0., 0., 0., 0., 0., 0., 0.]),\n",
       " array([0., 0., 0., 0., 0., 0., 0., 0., 0., 0., 0., 0., 0., 0., 0., 0., 0.,\n",
       "        0., 0., 0., 0., 0., 0., 0., 0., 0., 0., 0., 0., 0., 0., 0., 0., 0.,\n",
       "        0., 0.]),\n",
       " array([0., 0., 0., 0., 0., 0., 0., 0., 0., 0., 0., 0., 0., 0., 0., 0., 0.,\n",
       "        0., 0., 0., 0., 0., 0., 0., 0., 0., 0., 0., 0., 0., 0., 0., 0., 0.,\n",
       "        0., 0., 0., 0., 0., 0.])]"
      ]
     },
     "execution_count": 88,
     "metadata": {},
     "output_type": "execute_result"
    }
   ],
   "source": [
    "w_i"
   ]
  },
  {
   "cell_type": "code",
   "execution_count": 99,
   "metadata": {},
   "outputs": [
    {
     "data": {
      "text/plain": [
       "(10, 15)"
      ]
     },
     "execution_count": 99,
     "metadata": {},
     "output_type": "execute_result"
    }
   ],
   "source": [
    "np.array(X)[:,0,:].shape"
   ]
  },
  {
   "cell_type": "code",
   "execution_count": 106,
   "metadata": {},
   "outputs": [],
   "source": [
    "y = np.zeros((10,1))"
   ]
  },
  {
   "cell_type": "code",
   "execution_count": 102,
   "metadata": {},
   "outputs": [],
   "source": [
    "from sklearn.utils import check_consistent_length"
   ]
  },
  {
   "cell_type": "code",
   "execution_count": 107,
   "metadata": {},
   "outputs": [],
   "source": [
    "check_consistent_length(X, y)"
   ]
  },
  {
   "cell_type": "code",
   "execution_count": null,
   "metadata": {},
   "outputs": [],
   "source": []
  }
 ],
 "metadata": {
  "kernelspec": {
   "display_name": "Python 3",
   "language": "python",
   "name": "python3"
  },
  "language_info": {
   "codemirror_mode": {
    "name": "ipython",
    "version": 3
   },
   "file_extension": ".py",
   "mimetype": "text/x-python",
   "name": "python",
   "nbconvert_exporter": "python",
   "pygments_lexer": "ipython3",
   "version": "3.6.6"
  }
 },
 "nbformat": 4,
 "nbformat_minor": 2
}
