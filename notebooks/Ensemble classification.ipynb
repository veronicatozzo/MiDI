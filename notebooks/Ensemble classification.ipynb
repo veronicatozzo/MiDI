{
 "cells": [
  {
   "cell_type": "code",
   "execution_count": 1,
   "metadata": {},
   "outputs": [],
   "source": [
    "import numpy as np\n",
    "import pandas as pd\n",
    "#import torch\n",
    "from importlib import reload\n",
    "from sklearn.model_selection import StratifiedShuffleSplit\n",
    "from sklearn.metrics import balanced_accuracy_score\n",
    "from sklearn.impute import SimpleImputer\n",
    "import midi.utils; reload(midi.utils)\n",
    "from midi.utils import benchmark_with_multiple_models"
   ]
  },
  {
   "cell_type": "code",
   "execution_count": 2,
   "metadata": {},
   "outputs": [],
   "source": [
    "rna_seq = np.load(\"/home/vero/projects/camda/NB/data_cleaned/dataset_rnaseq_genes_145subjects_17072genes.npy\")\n",
    "acgh = np.load(\"/home/vero/projects/camda/NB/data_cleaned/dataset_1mb_aCGH.npy\")\n",
    "clinical = np.load(\"/home/vero/projects/camda/NB/data_cleaned/dataset_clinical_data_for_fit.npy\")\n",
    "\n",
    "stages = np.load(\"/home/vero/projects/camda/NB/data_cleaned/dataset_stages.npy\")\n",
    "stages = np.array(stages).flatten().astype(str)\n",
    "#stages\n",
    "\n",
    "y = np.load(\"/home/vero/projects/camda/NB/data_cleaned/dataset_outputs.npy\")\n",
    "mergeable = pd.read_csv(\"/home/vero/projects/camda/NB/data_cleaned/clinical_data_for_fit.csv\", index_col=0)\n",
    "clinical_HR = pd.read_csv(\"/home/vero/projects/camda/NB/data_cleaned/info_patients_clinical.csv\", \n",
    "                          index_col=0)['high_risk2']\n",
    "clinical_HR.sort_index()\n",
    "HR = clinical_HR.loc[mergeable.index].values\n",
    "HR[np.where(HR=='HR')] = '1'\n",
    "HR = HR.astype(int)"
   ]
  },
  {
   "cell_type": "code",
   "execution_count": 6,
   "metadata": {},
   "outputs": [],
   "source": [
    "y_new = y[:,1]\n",
    "y_new[np.where(y_new==0)] = -1"
   ]
  },
  {
   "cell_type": "markdown",
   "metadata": {},
   "source": [
    "# Classification Ensemble elastic net"
   ]
  },
  {
   "cell_type": "code",
   "execution_count": 119,
   "metadata": {},
   "outputs": [],
   "source": [
    "import midi.utils; reload(midi.utils)\n",
    "import midi.intermediate.ensemble.classification; reload(midi.intermediate.ensemble.classification)\n",
    "\n",
    "from midi.intermediate.ensemble.classification import EnsembleClassifier"
   ]
  },
  {
   "cell_type": "code",
   "execution_count": 120,
   "metadata": {},
   "outputs": [],
   "source": [
    "#model = EnsembleClassifier(estimator_params=[(1,0.5), (1,1), (0.5, 0.5), (2, 0.5)], verbose=1, tol=1e-5)"
   ]
  },
  {
   "cell_type": "code",
   "execution_count": null,
   "metadata": {},
   "outputs": [],
   "source": [
    "from sklearn.model_selection import StratifiedShuffleSplit, StratifiedKFold\n",
    "import midi.intermediate.ensemble.cross_validation; reload(midi.intermediate.ensemble.cross_validation)\n",
    "from midi.intermediate.ensemble.cross_validation import EnsembleCV;\n",
    "tr_scores = []\n",
    "ts_scores = []\n",
    "parameters = []\n",
    "val_scores = []\n",
    "sss = StratifiedShuffleSplit(n_splits=100)\n",
    "for train, test in sss.split(rna_seq, y):\n",
    "    sss_ = StratifiedKFold(n_splits=3)\n",
    "    x_tr = rna_seq[train,:]\n",
    "    y_tr = y_new[train]\n",
    "    x_ts = rna_seq[test, :]\n",
    "    y_ts = y_new[test]\n",
    "    model =  EnsembleClassifier(estimator_params=[(1,0.5), (1,1), (0.5, 0.5), (2, 0.5)],\n",
    "                                verbose=0, tol=1e-5)\n",
    "    cv = EnsembleRandomSearchCV(model, parameters, cv=sss)\n",
    "    cv.fit(x_tr, y_tr)\n",
    "    parameters.append(cv.best_params_)\n",
    "    val_scores.append(cv.best_score_)\n",
    "    tr_scores.append(balanced_accuracy_score(y_tr, cv.predict(x_tr)))\n",
    "    ts_scores.append(balanced_accuracy_score(y_ts, cv.predict(x_ts)))"
   ]
  },
  {
   "cell_type": "code",
   "execution_count": 123,
   "metadata": {},
   "outputs": [
    {
     "data": {
      "text/plain": [
       "(array([0.85651755, 0.68393795, 1.41731967]),\n",
       " [array([-1.50368692e-05, -3.35109977e-06, -1.39017322e-05, ...,\n",
       "         -5.47501349e-07, -2.01964426e-05,  8.76785874e-06]),\n",
       "  array([ 8.99965534e-06,  1.30543196e-05, -2.42069897e-05, ...,\n",
       "          2.23918678e-05,  4.86524277e-06,  1.14257088e-05]),\n",
       "  array([1.65600381e-04, 1.53295199e-05])])"
      ]
     },
     "execution_count": 123,
     "metadata": {},
     "output_type": "execute_result"
    }
   ],
   "source": [
    "model.coef_, model.W_"
   ]
  },
  {
   "cell_type": "code",
   "execution_count": 124,
   "metadata": {},
   "outputs": [
    {
     "name": "stdout",
     "output_type": "stream",
     "text": [
      "0.5977328431372549\n"
     ]
    }
   ],
   "source": [
    "from sklearn.metrics import balanced_accuracy_score\n",
    "R = []\n",
    "for w, X in zip(model.W_,[rna_tr, acgh_tr, cl_tr] ):\n",
    "    R.append(X.dot(w))\n",
    "    #print(balanced_accuracy_score(y_new[train], np.sign(X.dot(w))))\n",
    "R = np.array(R)\n",
    "#print(R)\n",
    "res = np.zeros_like(R[0])\n",
    "for i in range(len(model.coef_)):\n",
    "    res += model.coef_[i]*R[i]\n",
    "print(balanced_accuracy_score(y_new[train], np.sign(res)))\n",
    "#np.sign(res)"
   ]
  },
  {
   "cell_type": "code",
   "execution_count": 125,
   "metadata": {},
   "outputs": [
    {
     "data": {
      "text/plain": [
       "array([-1., -1., -1., -1., -1., -1., -1., -1., -1., -1.,  1., -1., -1.,\n",
       "       -1., -1., -1., -1., -1., -1., -1., -1., -1., -1.,  1., -1., -1.,\n",
       "       -1., -1., -1., -1., -1., -1.,  1., -1., -1., -1., -1., -1.,  1.,\n",
       "       -1., -1., -1., -1., -1., -1., -1., -1., -1., -1., -1., -1., -1.,\n",
       "       -1., -1., -1.,  1., -1., -1., -1., -1., -1., -1., -1., -1., -1.,\n",
       "       -1., -1., -1., -1., -1., -1., -1., -1., -1., -1., -1.,  1., -1.,\n",
       "        1., -1., -1., -1., -1., -1., -1., -1., -1., -1., -1., -1., -1.,\n",
       "       -1., -1., -1., -1., -1., -1., -1., -1., -1., -1., -1., -1., -1.,\n",
       "       -1., -1., -1., -1., -1., -1., -1., -1., -1., -1., -1., -1., -1.,\n",
       "       -1., -1., -1., -1., -1., -1., -1., -1., -1., -1., -1.,  1., -1.])"
      ]
     },
     "execution_count": 125,
     "metadata": {},
     "output_type": "execute_result"
    }
   ],
   "source": [
    "#model.predict([rna_tr])\n",
    "model.predict([rna_tr, acgh_tr, cl_tr])"
   ]
  },
  {
   "cell_type": "code",
   "execution_count": 126,
   "metadata": {},
   "outputs": [
    {
     "data": {
      "text/plain": [
       "array([-1, -1, -1, -1, -1, -1, -1, -1, -1, -1, -1, -1, -1, -1, -1, -1, -1,\n",
       "        1,  1,  1, -1, -1, -1,  1, -1,  1, -1, -1,  1, -1,  1, -1,  1, -1,\n",
       "       -1, -1, -1, -1,  1,  1, -1, -1, -1, -1, -1, -1, -1, -1,  1,  1, -1,\n",
       "       -1, -1, -1, -1,  1, -1, -1, -1, -1, -1,  1,  1, -1, -1, -1, -1, -1,\n",
       "        1, -1, -1, -1, -1, -1, -1,  1,  1, -1,  1, -1,  1, -1, -1, -1, -1,\n",
       "        1, -1, -1, -1,  1, -1,  1, -1, -1, -1, -1, -1, -1, -1, -1,  1, -1,\n",
       "        1, -1, -1, -1, -1, -1, -1,  1,  1, -1, -1,  1, -1, -1,  1, -1, -1,\n",
       "        1, -1, -1,  1, -1, -1, -1,  1,  1,  1, -1])"
      ]
     },
     "execution_count": 126,
     "metadata": {},
     "output_type": "execute_result"
    }
   ],
   "source": [
    "y_new[train]"
   ]
  },
  {
   "cell_type": "code",
   "execution_count": 127,
   "metadata": {},
   "outputs": [
    {
     "data": {
      "text/plain": [
       "0.5977328431372549"
      ]
     },
     "execution_count": 127,
     "metadata": {},
     "output_type": "execute_result"
    }
   ],
   "source": [
    "#model.score([rna_tr], y_new[train])\n",
    "model.score([rna_tr, acgh_tr, cl_tr], y_new[train])"
   ]
  },
  {
   "cell_type": "code",
   "execution_count": null,
   "metadata": {},
   "outputs": [],
   "source": [
    "rna_ts = rna_imp.fit_transform(rna_seq[test,:])\n",
    "acgh_ts = acgh[test,:]\n",
    "acgh_ts[np.where(np.isnan(acgh_ts))] = 0\n",
    "cl_ts = clinical[test,:]\n",
    "cl_ts[np.where(np.isnan(cl_ts))] = 0\n",
    "y_ts = y[test,1]"
   ]
  },
  {
   "cell_type": "code",
   "execution_count": null,
   "metadata": {},
   "outputs": [],
   "source": [
    "model.score([rna_ts, acgh_ts, cl_ts], y_ts)"
   ]
  },
  {
   "cell_type": "code",
   "execution_count": null,
   "metadata": {},
   "outputs": [],
   "source": [
    "from sklearn.linear_model import RidgeClassifier\n",
    "m = RidgeClassifier()\n",
    "m.fit(rna_tr, y_new[train])"
   ]
  },
  {
   "cell_type": "code",
   "execution_count": null,
   "metadata": {},
   "outputs": [],
   "source": [
    "m.coef_"
   ]
  },
  {
   "cell_type": "code",
   "execution_count": null,
   "metadata": {},
   "outputs": [],
   "source": []
  }
 ],
 "metadata": {
  "kernelspec": {
   "display_name": "Python 3",
   "language": "python",
   "name": "python3"
  },
  "language_info": {
   "codemirror_mode": {
    "name": "ipython",
    "version": 3
   },
   "file_extension": ".py",
   "mimetype": "text/x-python",
   "name": "python",
   "nbconvert_exporter": "python",
   "pygments_lexer": "ipython3",
   "version": "3.6.5"
  }
 },
 "nbformat": 4,
 "nbformat_minor": 2
}
