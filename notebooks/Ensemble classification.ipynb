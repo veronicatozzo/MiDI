{
 "cells": [
  {
   "cell_type": "code",
   "execution_count": 19,
   "metadata": {},
   "outputs": [],
   "source": [
    "import numpy as np\n",
    "import pandas as pd\n",
    "import torch\n",
    "from importlib import reload\n",
    "from sklearn.model_selection import StratifiedShuffleSplit\n",
    "from sklearn.metrics import balanced_accuracy_score\n",
    "from sklearn.impute import SimpleImputer\n",
    "import midi.utils; reload(midi.utils)\n",
    "from midi.utils import benchmark_with_multiple_models"
   ]
  },
  {
   "cell_type": "code",
   "execution_count": 5,
   "metadata": {},
   "outputs": [],
   "source": [
    "rna_seq = np.load(\"/home/vero/projects/camda/NB/data_cleaned/dataset_rnaseq_genes_145subjects_17072genes.npy\")\n",
    "acgh = np.load(\"/home/vero/projects/camda/NB/data_cleaned/dataset_1mb_aCGH.npy\")\n",
    "clinical = np.load(\"/home/vero/projects/camda/NB/data_cleaned/dataset_clinical_data_for_fit.npy\")\n",
    "\n",
    "stages = np.load(\"/home/vero/projects/camda/NB/data_cleaned/dataset_stages.npy\")\n",
    "stages = np.array(stages).flatten().astype(str)\n",
    "#stages\n",
    "\n",
    "y = np.load(\"/home/vero/projects/camda/NB/data_cleaned/dataset_outputs.npy\")\n",
    "mergeable = pd.read_csv(\"/home/vero/projects/camda/NB/data_cleaned/clinical_data_for_fit.csv\", index_col=0)\n",
    "clinical_HR = pd.read_csv(\"/home/vero/projects/camda/NB/data_cleaned/info_patients_clinical.csv\", \n",
    "                          index_col=0)['high_risk2']\n",
    "clinical_HR.sort_index()\n",
    "HR = clinical_HR.loc[mergeable.index].values\n",
    "HR[np.where(HR=='HR')] = '1'\n",
    "HR = HR.astype(int)"
   ]
  },
  {
   "cell_type": "code",
   "execution_count": 11,
   "metadata": {},
   "outputs": [],
   "source": [
    "sss = StratifiedShuffleSplit(n_splits=3)\n",
    "train, test = next(sss.split(rna_seq, y[:,1]))"
   ]
  },
  {
   "cell_type": "code",
   "execution_count": 20,
   "metadata": {},
   "outputs": [],
   "source": [
    "rna_imp = SimpleImputer(axis=1)\n",
    "rna_tr = rna_imp.fit_transform(rna_seq[train,:])\n",
    "acgh_tr = acgh[train,:]\n",
    "acgh_tr[np.where(np.isnan(acgh_tr))] = 0\n",
    "cl_tr = clinical[train,:]\n",
    "cl_tr[np.where(np.isnan(cl_tr))] = 0\n"
   ]
  },
  {
   "cell_type": "code",
   "execution_count": 22,
   "metadata": {},
   "outputs": [
    {
     "data": {
      "text/plain": [
       "(False, False, False)"
      ]
     },
     "execution_count": 22,
     "metadata": {},
     "output_type": "execute_result"
    }
   ],
   "source": [
    "np.any(np.isnan(rna_tr)), np.any(np.isnan(acgh_tr)), np.any(np.isnan(cl_tr))"
   ]
  },
  {
   "cell_type": "code",
   "execution_count": 73,
   "metadata": {},
   "outputs": [],
   "source": [
    "y_new = y[:,1]\n",
    "y_new[np.where(y_new==0)] = -1"
   ]
  },
  {
   "cell_type": "markdown",
   "metadata": {},
   "source": [
    "# Classification Ensemble elastic net"
   ]
  },
  {
   "cell_type": "code",
   "execution_count": 294,
   "metadata": {},
   "outputs": [],
   "source": [
    "import midi.utils; reload(midi.utils)\n",
    "import midi.intermediate.ensemble.classification; reload(midi.intermediate.ensemble.classification)\n",
    "\n",
    "from midi.intermediate.ensemble.classification import EnsembleClassifier"
   ]
  },
  {
   "cell_type": "code",
   "execution_count": 342,
   "metadata": {},
   "outputs": [],
   "source": [
    "model = EnsembleClassifier(estimator_params=[[0.1],[0.9]], verbose=1, tol=1e-5)"
   ]
  },
  {
   "cell_type": "code",
   "execution_count": 343,
   "metadata": {},
   "outputs": [
    {
     "name": "stdout",
     "output_type": "stream",
     "text": [
      "Iter: 0,\t obj:519.34,\t obj_diff:inf,\t iter_diff: 0.00000\n",
      "Iter: 1,\t obj:519.13,\t obj_diff:0.20361,\t iter_diff: 0.00000\n",
      "Iter: 2,\t obj:518.94,\t obj_diff:0.19092,\t iter_diff: 0.00000\n",
      "Iter: 3,\t obj:518.78,\t obj_diff:0.16442,\t iter_diff: 0.00000\n",
      "Iter: 4,\t obj:518.63,\t obj_diff:0.15292,\t iter_diff: 0.00000\n",
      "Iter: 5,\t obj:518.48,\t obj_diff:0.14215,\t iter_diff: 0.00000\n",
      "Iter: 6,\t obj:518.35,\t obj_diff:0.13243,\t iter_diff: 0.00000\n",
      "Iter: 7,\t obj:518.23,\t obj_diff:0.12323,\t iter_diff: 0.00000\n",
      "Iter: 8,\t obj:518.11,\t obj_diff:0.11494,\t iter_diff: 0.00000\n",
      "Iter: 9,\t obj:518.01,\t obj_diff:0.10709,\t iter_diff: 0.00000\n",
      "Iter: 10,\t obj:517.91,\t obj_diff:0.10001,\t iter_diff: 0.00000\n",
      "Iter: 11,\t obj:517.81,\t obj_diff:0.09896,\t iter_diff: 0.00000\n",
      "Iter: 12,\t obj:517.72,\t obj_diff:0.08689,\t iter_diff: 0.00000\n",
      "Iter: 13,\t obj:517.64,\t obj_diff:0.08252,\t iter_diff: 0.00000\n",
      "Iter: 14,\t obj:517.56,\t obj_diff:0.08208,\t iter_diff: 0.00000\n",
      "Iter: 15,\t obj:517.49,\t obj_diff:0.07081,\t iter_diff: 0.00000\n",
      "Iter: 16,\t obj:517.42,\t obj_diff:0.06621,\t iter_diff: 0.00000\n",
      "Iter: 17,\t obj:517.36,\t obj_diff:0.06304,\t iter_diff: 0.00000\n",
      "Iter: 18,\t obj:517.29,\t obj_diff:0.06327,\t iter_diff: 0.00000\n",
      "Iter: 19,\t obj:517.24,\t obj_diff:0.05095,\t iter_diff: 0.00000\n",
      "Iter: 20,\t obj:517.19,\t obj_diff:0.05108,\t iter_diff: 0.00000\n",
      "Iter: 21,\t obj:517.14,\t obj_diff:0.04784,\t iter_diff: 0.00000\n",
      "Iter: 22,\t obj:517.09,\t obj_diff:0.04798,\t iter_diff: 0.00000\n",
      "Iter: 23,\t obj:517.05,\t obj_diff:0.04256,\t iter_diff: 0.00000\n",
      "Iter: 24,\t obj:517.01,\t obj_diff:0.04064,\t iter_diff: 0.00000\n",
      "Iter: 25,\t obj:516.97,\t obj_diff:0.03703,\t iter_diff: 0.00000\n",
      "Iter: 26,\t obj:516.94,\t obj_diff:0.03482,\t iter_diff: 0.00000\n",
      "Iter: 27,\t obj:516.91,\t obj_diff:0.03481,\t iter_diff: 0.00000\n",
      "Iter: 28,\t obj:516.87,\t obj_diff:0.03117,\t iter_diff: 0.00000\n",
      "Iter: 29,\t obj:516.84,\t obj_diff:0.02986,\t iter_diff: 0.00000\n",
      "Iter: 30,\t obj:516.82,\t obj_diff:0.02723,\t iter_diff: 0.00000\n",
      "Iter: 31,\t obj:516.79,\t obj_diff:0.02689,\t iter_diff: 0.00000\n",
      "Iter: 32,\t obj:516.76,\t obj_diff:0.02938,\t iter_diff: 0.00000\n",
      "Iter: 33,\t obj:516.74,\t obj_diff:0.02236,\t iter_diff: 0.00000\n",
      "Iter: 34,\t obj:516.71,\t obj_diff:0.02597,\t iter_diff: 0.00000\n",
      "Iter: 35,\t obj:516.69,\t obj_diff:0.02094,\t iter_diff: 0.00000\n",
      "Iter: 36,\t obj:516.67,\t obj_diff:0.01849,\t iter_diff: 0.00000\n",
      "Iter: 37,\t obj:516.65,\t obj_diff:0.02107,\t iter_diff: 0.00000\n",
      "Iter: 38,\t obj:516.64,\t obj_diff:0.01623,\t iter_diff: 0.00000\n",
      "Iter: 39,\t obj:516.62,\t obj_diff:0.01531,\t iter_diff: 0.00000\n",
      "Iter: 40,\t obj:516.61,\t obj_diff:0.01448,\t iter_diff: 0.00000\n",
      "Iter: 41,\t obj:516.59,\t obj_diff:0.01597,\t iter_diff: 0.00000\n",
      "Iter: 42,\t obj:516.57,\t obj_diff:0.01471,\t iter_diff: 0.00000\n",
      "Iter: 43,\t obj:516.56,\t obj_diff:0.01190,\t iter_diff: 0.00000\n",
      "Iter: 44,\t obj:516.55,\t obj_diff:0.01130,\t iter_diff: 0.00000\n",
      "Iter: 45,\t obj:516.54,\t obj_diff:0.01222,\t iter_diff: 0.00000\n",
      "Iter: 46,\t obj:516.53,\t obj_diff:0.01256,\t iter_diff: 0.00000\n",
      "Iter: 47,\t obj:516.52,\t obj_diff:0.00930,\t iter_diff: 0.00000\n",
      "Iter: 48,\t obj:516.51,\t obj_diff:0.01043,\t iter_diff: 0.00000\n",
      "Iter: 49,\t obj:516.50,\t obj_diff:0.00856,\t iter_diff: 0.00000\n",
      "Iter: 50,\t obj:516.49,\t obj_diff:0.00775,\t iter_diff: 0.00000\n",
      "Iter: 51,\t obj:516.48,\t obj_diff:0.00898,\t iter_diff: 0.00000\n",
      "Iter: 52,\t obj:516.48,\t obj_diff:0.00687,\t iter_diff: 0.00000\n",
      "Iter: 53,\t obj:516.47,\t obj_diff:0.00651,\t iter_diff: 0.00000\n",
      "Iter: 54,\t obj:516.46,\t obj_diff:0.00818,\t iter_diff: 0.00000\n",
      "Iter: 55,\t obj:516.45,\t obj_diff:0.00652,\t iter_diff: 0.00000\n",
      "Iter: 56,\t obj:516.45,\t obj_diff:0.00795,\t iter_diff: 0.00000\n",
      "Iter: 57,\t obj:516.44,\t obj_diff:0.00527,\t iter_diff: 0.00000\n",
      "Iter: 58,\t obj:516.44,\t obj_diff:0.00466,\t iter_diff: 0.00000\n",
      "Iter: 59,\t obj:516.43,\t obj_diff:0.00442,\t iter_diff: 0.00000\n",
      "Iter: 60,\t obj:516.43,\t obj_diff:0.00460,\t iter_diff: 0.00000\n",
      "Iter: 61,\t obj:516.42,\t obj_diff:0.00394,\t iter_diff: 0.00000\n",
      "Iter: 62,\t obj:516.42,\t obj_diff:0.00410,\t iter_diff: 0.00000\n",
      "Iter: 63,\t obj:516.42,\t obj_diff:0.00368,\t iter_diff: 0.00000\n",
      "Iter: 64,\t obj:516.41,\t obj_diff:0.00453,\t iter_diff: 0.00000\n",
      "Iter: 65,\t obj:516.41,\t obj_diff:0.00498,\t iter_diff: 0.00000\n",
      "Iter: 66,\t obj:516.40,\t obj_diff:0.00342,\t iter_diff: 0.00000\n",
      "Iter: 67,\t obj:516.40,\t obj_diff:0.00265,\t iter_diff: 0.00000\n",
      "Iter: 68,\t obj:516.40,\t obj_diff:0.00355,\t iter_diff: 0.00000\n",
      "Iter: 69,\t obj:516.39,\t obj_diff:0.00233,\t iter_diff: 0.00000\n",
      "Iter: 70,\t obj:516.39,\t obj_diff:0.00220,\t iter_diff: 0.00000\n",
      "Iter: 71,\t obj:516.39,\t obj_diff:0.00210,\t iter_diff: 0.00000\n",
      "Iter: 72,\t obj:516.39,\t obj_diff:0.00343,\t iter_diff: 0.00000\n",
      "Iter: 73,\t obj:516.38,\t obj_diff:0.00289,\t iter_diff: 0.00000\n",
      "Iter: 74,\t obj:516.38,\t obj_diff:0.00251,\t iter_diff: 0.00000\n",
      "Iter: 75,\t obj:516.38,\t obj_diff:0.00241,\t iter_diff: 0.00000\n",
      "Iter: 76,\t obj:516.38,\t obj_diff:0.00225,\t iter_diff: 0.00000\n",
      "Iter: 77,\t obj:516.37,\t obj_diff:0.00223,\t iter_diff: 0.00000\n",
      "Iter: 78,\t obj:516.37,\t obj_diff:0.00161,\t iter_diff: 0.00000\n",
      "Iter: 79,\t obj:516.37,\t obj_diff:0.00112,\t iter_diff: 0.00000\n",
      "Iter: 80,\t obj:516.37,\t obj_diff:0.00108,\t iter_diff: 0.00000\n",
      "Iter: 81,\t obj:516.37,\t obj_diff:0.00104,\t iter_diff: 0.00000\n",
      "Iter: 82,\t obj:516.37,\t obj_diff:0.00163,\t iter_diff: 0.00000\n",
      "Iter: 83,\t obj:516.37,\t obj_diff:0.00117,\t iter_diff: 0.00000\n",
      "Iter: 84,\t obj:516.36,\t obj_diff:0.00140,\t iter_diff: 0.00000\n",
      "Iter: 85,\t obj:516.36,\t obj_diff:0.00079,\t iter_diff: 0.00000\n",
      "Iter: 86,\t obj:516.36,\t obj_diff:0.00163,\t iter_diff: 0.00000\n",
      "Iter: 87,\t obj:516.36,\t obj_diff:0.00098,\t iter_diff: 0.00000\n",
      "Iter: 88,\t obj:516.36,\t obj_diff:0.00063,\t iter_diff: 0.00000\n",
      "Iter: 89,\t obj:516.36,\t obj_diff:0.00067,\t iter_diff: 0.00000\n",
      "Iter: 90,\t obj:516.36,\t obj_diff:0.00057,\t iter_diff: 0.00000\n",
      "Iter: 91,\t obj:516.36,\t obj_diff:0.00055,\t iter_diff: 0.00000\n",
      "Iter: 92,\t obj:516.36,\t obj_diff:0.00053,\t iter_diff: 0.00000\n",
      "Iter: 93,\t obj:516.36,\t obj_diff:0.00090,\t iter_diff: 0.00000\n",
      "Iter: 94,\t obj:516.36,\t obj_diff:0.00048,\t iter_diff: 0.00000\n",
      "Iter: 95,\t obj:516.36,\t obj_diff:0.00046,\t iter_diff: 0.00000\n",
      "Iter: 96,\t obj:516.36,\t obj_diff:0.00029,\t iter_diff: 0.00000\n",
      "Iter: 97,\t obj:516.36,\t obj_diff:0.00080,\t iter_diff: 0.00000\n",
      "Iter: 98,\t obj:516.35,\t obj_diff:0.00064,\t iter_diff: 0.00000\n",
      "Iter: 99,\t obj:516.35,\t obj_diff:0.00038,\t iter_diff: 0.00000\n",
      "Iter: 100,\t obj:516.35,\t obj_diff:0.00073,\t iter_diff: 0.00000\n",
      "Iter: 101,\t obj:516.35,\t obj_diff:0.00084,\t iter_diff: 0.00000\n",
      "Iter: 102,\t obj:516.35,\t obj_diff:0.00030,\t iter_diff: 0.00000\n",
      "Iter: 103,\t obj:516.35,\t obj_diff:0.00029,\t iter_diff: 0.00000\n",
      "Iter: 104,\t obj:516.35,\t obj_diff:0.00028,\t iter_diff: 0.00000\n",
      "Iter: 105,\t obj:516.35,\t obj_diff:0.00056,\t iter_diff: 0.00000\n",
      "Iter: 106,\t obj:516.35,\t obj_diff:0.00048,\t iter_diff: 0.00000\n",
      "Iter: 107,\t obj:516.35,\t obj_diff:0.00030,\t iter_diff: 0.00000\n",
      "Iter: 108,\t obj:516.35,\t obj_diff:0.00035,\t iter_diff: 0.00000\n",
      "Iter: 109,\t obj:516.35,\t obj_diff:0.00038,\t iter_diff: 0.00000\n",
      "Iter: 110,\t obj:516.35,\t obj_diff:0.00025,\t iter_diff: 0.00000\n",
      "Iter: 111,\t obj:516.35,\t obj_diff:0.00047,\t iter_diff: 0.00000\n",
      "Iter: 112,\t obj:516.35,\t obj_diff:0.00037,\t iter_diff: 0.00000\n",
      "Iter: 113,\t obj:516.35,\t obj_diff:0.00024,\t iter_diff: 0.00000\n",
      "Iter: 114,\t obj:516.35,\t obj_diff:0.00027,\t iter_diff: 0.00000\n",
      "Iter: 115,\t obj:516.35,\t obj_diff:0.00017,\t iter_diff: 0.00000\n",
      "Iter: 116,\t obj:516.35,\t obj_diff:0.00024,\t iter_diff: 0.00000\n",
      "Iter: 117,\t obj:516.35,\t obj_diff:0.00027,\t iter_diff: 0.00000\n",
      "Iter: 118,\t obj:516.35,\t obj_diff:0.00016,\t iter_diff: 0.00000\n",
      "Iter: 119,\t obj:516.35,\t obj_diff:0.00016,\t iter_diff: 0.00000\n",
      "Iter: 120,\t obj:516.35,\t obj_diff:0.00029,\t iter_diff: 0.00000\n",
      "Iter: 121,\t obj:516.35,\t obj_diff:0.00015,\t iter_diff: 0.00000\n",
      "Iter: 122,\t obj:516.35,\t obj_diff:0.00015,\t iter_diff: 0.00000\n",
      "Iter: 123,\t obj:516.35,\t obj_diff:0.00015,\t iter_diff: 0.00000\n",
      "Iter: 124,\t obj:516.35,\t obj_diff:0.00017,\t iter_diff: 0.00000\n",
      "Iter: 125,\t obj:516.35,\t obj_diff:0.00017,\t iter_diff: 0.00000\n",
      "Iter: 126,\t obj:516.35,\t obj_diff:0.00021,\t iter_diff: 0.00000\n",
      "Iter: 127,\t obj:516.35,\t obj_diff:0.00015,\t iter_diff: 0.00000\n",
      "Iter: 128,\t obj:516.35,\t obj_diff:0.00015,\t iter_diff: 0.00000\n",
      "Iter: 129,\t obj:516.35,\t obj_diff:0.00017,\t iter_diff: 0.00000\n",
      "Iter: 130,\t obj:516.35,\t obj_diff:0.00020,\t iter_diff: 0.00000\n",
      "Iter: 131,\t obj:516.35,\t obj_diff:0.00017,\t iter_diff: 0.00000\n",
      "Iter: 132,\t obj:516.35,\t obj_diff:0.00015,\t iter_diff: 0.00000\n",
      "Iter: 133,\t obj:516.34,\t obj_diff:0.00015,\t iter_diff: 0.00000\n"
     ]
    },
    {
     "name": "stdout",
     "output_type": "stream",
     "text": [
      "Iter: 134,\t obj:516.34,\t obj_diff:0.00016,\t iter_diff: 0.00000\n",
      "Iter: 135,\t obj:516.34,\t obj_diff:0.00016,\t iter_diff: 0.00000\n",
      "Iter: 136,\t obj:516.34,\t obj_diff:0.00016,\t iter_diff: 0.00000\n",
      "Iter: 137,\t obj:516.34,\t obj_diff:0.00016,\t iter_diff: 0.00000\n",
      "Iter: 138,\t obj:516.34,\t obj_diff:0.00015,\t iter_diff: 0.00000\n",
      "Iter: 139,\t obj:516.34,\t obj_diff:0.00016,\t iter_diff: 0.00000\n",
      "Iter: 140,\t obj:516.34,\t obj_diff:0.00016,\t iter_diff: 0.00000\n",
      "Iter: 141,\t obj:516.34,\t obj_diff:0.00016,\t iter_diff: 0.00000\n",
      "Iter: 142,\t obj:516.34,\t obj_diff:0.00013,\t iter_diff: 0.00000\n",
      "Iter: 143,\t obj:516.34,\t obj_diff:0.00011,\t iter_diff: 0.00000\n",
      "Iter: 144,\t obj:516.34,\t obj_diff:0.00016,\t iter_diff: 0.00000\n",
      "Iter: 145,\t obj:516.34,\t obj_diff:0.00016,\t iter_diff: 0.00000\n",
      "Iter: 146,\t obj:516.34,\t obj_diff:0.00016,\t iter_diff: 0.00000\n",
      "Iter: 147,\t obj:516.34,\t obj_diff:0.00016,\t iter_diff: 0.00000\n",
      "Iter: 148,\t obj:516.34,\t obj_diff:0.00008,\t iter_diff: 0.00000\n",
      "Iter: 149,\t obj:516.34,\t obj_diff:0.00011,\t iter_diff: 0.00000\n",
      "Iter: 150,\t obj:516.34,\t obj_diff:0.00017,\t iter_diff: 0.00000\n",
      "Iter: 151,\t obj:516.34,\t obj_diff:0.00017,\t iter_diff: 0.00000\n",
      "Iter: 152,\t obj:516.34,\t obj_diff:0.00008,\t iter_diff: 0.00000\n",
      "Iter: 153,\t obj:516.34,\t obj_diff:0.00009,\t iter_diff: 0.00000\n",
      "Iter: 154,\t obj:516.34,\t obj_diff:0.00018,\t iter_diff: 0.00000\n",
      "Iter: 155,\t obj:516.34,\t obj_diff:0.00018,\t iter_diff: 0.00000\n",
      "Iter: 156,\t obj:516.34,\t obj_diff:0.00018,\t iter_diff: 0.00000\n",
      "Iter: 157,\t obj:516.34,\t obj_diff:0.00014,\t iter_diff: 0.00000\n",
      "Iter: 158,\t obj:516.34,\t obj_diff:0.00018,\t iter_diff: 0.00000\n",
      "Iter: 159,\t obj:516.34,\t obj_diff:0.00018,\t iter_diff: 0.00000\n",
      "Iter: 160,\t obj:516.34,\t obj_diff:0.00018,\t iter_diff: 0.00000\n",
      "Iter: 161,\t obj:516.34,\t obj_diff:0.00013,\t iter_diff: 0.00000\n",
      "Iter: 162,\t obj:516.34,\t obj_diff:0.00018,\t iter_diff: 0.00000\n",
      "Iter: 163,\t obj:516.34,\t obj_diff:0.00004,\t iter_diff: 0.00000\n",
      "Iter: 164,\t obj:516.34,\t obj_diff:0.00019,\t iter_diff: 0.00000\n",
      "Iter: 165,\t obj:516.34,\t obj_diff:0.00019,\t iter_diff: 0.00000\n",
      "Iter: 166,\t obj:516.34,\t obj_diff:0.00013,\t iter_diff: 0.00000\n",
      "Iter: 167,\t obj:516.34,\t obj_diff:0.00015,\t iter_diff: 0.00000\n",
      "Iter: 168,\t obj:516.34,\t obj_diff:0.00019,\t iter_diff: 0.00000\n",
      "Iter: 169,\t obj:516.34,\t obj_diff:0.00019,\t iter_diff: 0.00000\n",
      "Iter: 170,\t obj:516.34,\t obj_diff:0.00014,\t iter_diff: 0.00000\n",
      "Iter: 171,\t obj:516.34,\t obj_diff:0.00007,\t iter_diff: 0.00000\n",
      "Iter: 172,\t obj:516.34,\t obj_diff:0.00019,\t iter_diff: 0.00000\n",
      "Iter: 173,\t obj:516.34,\t obj_diff:0.00013,\t iter_diff: 0.00000\n",
      "Iter: 174,\t obj:516.34,\t obj_diff:0.00019,\t iter_diff: 0.00000\n",
      "Iter: 175,\t obj:516.34,\t obj_diff:0.00019,\t iter_diff: 0.00000\n",
      "Iter: 176,\t obj:516.34,\t obj_diff:0.00016,\t iter_diff: 0.00000\n",
      "Iter: 177,\t obj:516.34,\t obj_diff:0.00017,\t iter_diff: 0.00000\n",
      "Iter: 178,\t obj:516.34,\t obj_diff:0.00019,\t iter_diff: 0.00000\n",
      "Iter: 179,\t obj:516.34,\t obj_diff:0.00019,\t iter_diff: 0.00000\n",
      "Iter: 180,\t obj:516.34,\t obj_diff:0.00019,\t iter_diff: 0.00000\n",
      "Iter: 181,\t obj:516.34,\t obj_diff:0.00010,\t iter_diff: 0.00000\n",
      "Iter: 182,\t obj:516.34,\t obj_diff:0.00015,\t iter_diff: 0.00000\n",
      "Iter: 183,\t obj:516.34,\t obj_diff:0.00019,\t iter_diff: 0.00000\n",
      "Iter: 184,\t obj:516.34,\t obj_diff:0.00019,\t iter_diff: 0.00000\n",
      "Iter: 185,\t obj:516.34,\t obj_diff:0.00021,\t iter_diff: 0.00000\n",
      "Iter: 186,\t obj:516.34,\t obj_diff:0.00019,\t iter_diff: 0.00000\n",
      "Iter: 187,\t obj:516.34,\t obj_diff:0.00018,\t iter_diff: 0.00000\n",
      "Iter: 188,\t obj:516.34,\t obj_diff:0.00008,\t iter_diff: 0.00000\n",
      "Iter: 189,\t obj:516.34,\t obj_diff:0.00019,\t iter_diff: 0.00000\n",
      "Iter: 190,\t obj:516.34,\t obj_diff:0.00016,\t iter_diff: 0.00000\n",
      "Iter: 191,\t obj:516.34,\t obj_diff:0.00017,\t iter_diff: 0.00000\n",
      "Iter: 192,\t obj:516.34,\t obj_diff:0.00007,\t iter_diff: 0.00000\n",
      "Iter: 193,\t obj:516.34,\t obj_diff:0.00012,\t iter_diff: 0.00000\n",
      "Iter: 194,\t obj:516.34,\t obj_diff:-0.00000,\t iter_diff: 0.00000\n"
     ]
    },
    {
     "data": {
      "text/plain": [
       "<midi.intermediate.ensemble.classification.EnsembleClassifier at 0x7fcf2cad0160>"
      ]
     },
     "execution_count": 343,
     "metadata": {},
     "output_type": "execute_result"
    }
   ],
   "source": [
    "model.fit([rna_tr, acgh_tr, cl_tr], y_new[train])"
   ]
  },
  {
   "cell_type": "code",
   "execution_count": 344,
   "metadata": {},
   "outputs": [
    {
     "data": {
      "text/plain": [
       "(array([-0.78606569, -1.10204121,  0.28538946]),\n",
       " [array([-1.21389839e-05, -1.80483713e-06, -6.03308958e-07, ...,\n",
       "          6.68827240e-06,  1.14697324e-05,  1.28220331e-05]),\n",
       "  array([-3.59537590e-06,  1.23894483e-05,  1.35321896e-06, ...,\n",
       "          1.02438520e-05,  9.89259959e-07, -3.73495260e-07]),\n",
       "  array([1.05661530e-04, 7.49649836e-07])])"
      ]
     },
     "execution_count": 344,
     "metadata": {},
     "output_type": "execute_result"
    }
   ],
   "source": [
    "model.coef_, model.W_"
   ]
  },
  {
   "cell_type": "code",
   "execution_count": 345,
   "metadata": {},
   "outputs": [
    {
     "name": "stdout",
     "output_type": "stream",
     "text": [
      "[[-1. -1. -1. -1. -1. -1. -1. -1. -1. -1. -1. -1. -1. -1. -1. -1. -1. -1.\n",
      "  -1. -1. -1. -1. -1. -1. -1. -1. -1. -1. -1. -1. -1. -1. -1. -1. -1. -1.\n",
      "  -1. -1. -1. -1. -1. -1. -1. -1. -1. -1. -1. -1. -1. -1. -1. -1. -1. -1.\n",
      "  -1. -1. -1. -1. -1. -1. -1. -1. -1. -1. -1. -1. -1. -1. -1. -1. -1. -1.\n",
      "  -1. -1. -1. -1. -1. -1. -1. -1. -1. -1. -1. -1. -1. -1. -1. -1. -1. -1.\n",
      "  -1. -1. -1. -1. -1. -1. -1. -1. -1. -1. -1. -1. -1. -1. -1. -1. -1. -1.\n",
      "  -1. -1. -1. -1. -1. -1. -1. -1. -1. -1. -1. -1. -1. -1. -1. -1. -1. -1.\n",
      "  -1. -1. -1. -1.]\n",
      " [-1.  1.  1.  1.  1.  1. -1. -1.  1.  1.  1. -1. -1. -1.  1.  1.  1. -1.\n",
      "  -1.  1.  1. -1. -1. -1.  1.  1.  1. -1.  1. -1.  1. -1.  1.  1.  1. -1.\n",
      "  -1. -1.  1. -1. -1.  1.  1.  1.  1. -1. -1.  1. -1.  1.  1.  1.  1. -1.\n",
      "   1. -1.  1.  1. -1. -1.  1. -1.  1.  1. -1. -1.  1. -1. -1. -1.  1.  1.\n",
      "   1.  1.  1.  1. -1.  1. -1. -1. -1.  1. -1.  1.  1.  1.  1. -1. -1.  1.\n",
      "  -1.  1.  1. -1.  1.  1.  1. -1.  1. -1.  1.  1.  1.  1. -1. -1.  1. -1.\n",
      "   1.  1. -1. -1. -1. -1. -1.  1.  1.  1. -1. -1. -1.  1.  1. -1. -1.  1.\n",
      "   1.  1. -1.  1.]\n",
      " [ 1.  1.  1.  1.  1.  1.  1.  1.  1.  1.  1.  1.  1.  0.  1.  1.  1.  1.\n",
      "   1.  1.  1.  0.  0.  1.  1.  1.  1.  1.  1.  1.  1.  1.  1.  1.  1.  1.\n",
      "   1.  1.  1.  1.  1.  1.  1.  1.  1.  1.  1.  1.  1.  1.  1.  1.  1.  1.\n",
      "   1.  1.  1.  1.  1.  1.  1.  1.  1.  1.  1.  1.  1.  1.  1.  1.  1.  1.\n",
      "   1.  1.  1.  1.  1.  1.  1.  1.  1.  1.  1.  1.  1.  1.  1.  1.  1.  1.\n",
      "   1.  1.  1.  0.  1.  1.  1.  1.  1.  1.  1.  1.  1.  1.  1.  0.  1.  1.\n",
      "   1.  1.  1.  1.  1.  1.  1.  1.  1.  1.  1.  1.  1.  1.  1.  1.  1.  1.\n",
      "   1.  1.  0.  1.]]\n",
      "[ 1. -1. -1. -1. -1. -1.  1.  1. -1. -1. -1.  1.  1.  1. -1. -1. -1.  1.\n",
      "  1. -1. -1.  1.  1.  1. -1. -1. -1.  1. -1.  1. -1.  1. -1. -1. -1.  1.\n",
      "  1.  1. -1.  1.  1. -1. -1. -1. -1.  1.  1. -1.  1. -1. -1. -1. -1.  1.\n",
      " -1.  1. -1. -1.  1.  1. -1.  1. -1. -1.  1.  1. -1.  1.  1.  1. -1. -1.\n",
      " -1. -1. -1. -1.  1. -1.  1.  1.  1. -1.  1. -1. -1. -1. -1.  1.  1. -1.\n",
      "  1. -1. -1.  1. -1. -1. -1.  1. -1.  1. -1. -1. -1. -1.  1.  1. -1.  1.\n",
      " -1. -1.  1.  1.  1.  1.  1. -1. -1. -1.  1.  1.  1. -1. -1.  1.  1. -1.\n",
      " -1. -1.  1. -1.]\n"
     ]
    }
   ],
   "source": [
    "R = []\n",
    "for w, X in zip(model.W_,[rna_tr, acgh_tr, cl_tr] ):\n",
    "    R.append(np.sign(X.dot(w)))\n",
    "R = np.array(R)\n",
    "print(R)\n",
    "print(np.sign(model.coef_.dot(R)))\n",
    "#model.W_"
   ]
  },
  {
   "cell_type": "code",
   "execution_count": 346,
   "metadata": {},
   "outputs": [
    {
     "data": {
      "text/plain": [
       "array([1., 1., 1., 1., 1., 1., 1., 1., 1., 1., 1., 1., 1., 1., 1., 1., 1.,\n",
       "       1., 1., 1., 1., 1., 1., 1., 1., 1., 1., 1., 1., 1., 1., 1., 1., 1.,\n",
       "       1., 1., 1., 1., 1., 1., 1., 1., 1., 1., 1., 1., 1., 1., 1., 1., 1.,\n",
       "       1., 1., 1., 1., 1., 1., 1., 1., 1., 1., 1., 1., 1., 1., 1., 1., 1.,\n",
       "       1., 1., 1., 1., 1., 1., 1., 1., 1., 1., 1., 1., 1., 1., 1., 1., 1.,\n",
       "       1., 1., 1., 1., 1., 1., 1., 1., 1., 1., 1., 1., 1., 1., 1., 1., 1.,\n",
       "       1., 1., 1., 1., 1., 1., 1., 1., 1., 1., 1., 1., 1., 1., 1., 1., 1.,\n",
       "       1., 1., 1., 1., 1., 1., 1., 1., 1., 1., 1.])"
      ]
     },
     "execution_count": 346,
     "metadata": {},
     "output_type": "execute_result"
    }
   ],
   "source": [
    "model.predict([rna_tr, acgh_tr, cl_tr])"
   ]
  },
  {
   "cell_type": "code",
   "execution_count": 347,
   "metadata": {},
   "outputs": [
    {
     "data": {
      "text/plain": [
       "array([-1,  1, -1, -1, -1,  1, -1,  1, -1,  1, -1, -1,  1, -1, -1, -1, -1,\n",
       "        1, -1,  1, -1, -1, -1, -1, -1,  1, -1, -1,  1, -1, -1, -1,  1, -1,\n",
       "        1, -1, -1, -1,  1, -1,  1, -1,  1, -1, -1, -1, -1, -1,  1, -1, -1,\n",
       "        1, -1, -1, -1,  1, -1, -1, -1, -1, -1,  1, -1, -1, -1, -1, -1, -1,\n",
       "        1, -1,  1,  1, -1,  1, -1,  1, -1, -1, -1, -1, -1, -1,  1,  1, -1,\n",
       "       -1, -1, -1, -1, -1, -1, -1, -1, -1, -1,  1, -1, -1, -1, -1,  1, -1,\n",
       "       -1, -1, -1, -1, -1,  1, -1, -1,  1,  1,  1, -1, -1,  1,  1, -1, -1,\n",
       "        1, -1, -1, -1, -1, -1, -1, -1, -1, -1, -1])"
      ]
     },
     "execution_count": 347,
     "metadata": {},
     "output_type": "execute_result"
    }
   ],
   "source": [
    "y_new[train]"
   ]
  },
  {
   "cell_type": "code",
   "execution_count": 348,
   "metadata": {},
   "outputs": [
    {
     "data": {
      "text/plain": [
       "0.5"
      ]
     },
     "execution_count": 348,
     "metadata": {},
     "output_type": "execute_result"
    }
   ],
   "source": [
    "model.score([rna_tr, acgh_tr, cl_tr], y_new[train])"
   ]
  },
  {
   "cell_type": "code",
   "execution_count": 340,
   "metadata": {},
   "outputs": [],
   "source": [
    "rna_ts = rna_imp.fit_transform(rna_seq[test,:])\n",
    "acgh_ts = acgh[test,:]\n",
    "acgh_ts[np.where(np.isnan(acgh_ts))] = 0\n",
    "cl_ts = clinical[test,:]\n",
    "cl_ts[np.where(np.isnan(cl_ts))] = 0\n",
    "y_ts = y[test,1]"
   ]
  },
  {
   "cell_type": "code",
   "execution_count": 341,
   "metadata": {},
   "outputs": [
    {
     "data": {
      "text/plain": [
       "0.5"
      ]
     },
     "execution_count": 341,
     "metadata": {},
     "output_type": "execute_result"
    }
   ],
   "source": [
    "model.score([rna_ts, acgh_ts, cl_ts], y_ts)"
   ]
  },
  {
   "cell_type": "code",
   "execution_count": 122,
   "metadata": {},
   "outputs": [
    {
     "data": {
      "text/plain": [
       "RidgeClassifier(alpha=1.0, class_weight=None, copy_X=True, fit_intercept=True,\n",
       "        max_iter=None, normalize=False, random_state=None, solver='auto',\n",
       "        tol=0.001)"
      ]
     },
     "execution_count": 122,
     "metadata": {},
     "output_type": "execute_result"
    }
   ],
   "source": [
    "from sklearn.linear_model import RidgeClassifier\n",
    "m = RidgeClassifier()\n",
    "m.fit(rna_tr, y_new[train])"
   ]
  },
  {
   "cell_type": "code",
   "execution_count": 123,
   "metadata": {},
   "outputs": [
    {
     "data": {
      "text/plain": [
       "array([[-7.98361748e-06,  9.85689640e-05,  4.60147559e-04, ...,\n",
       "         2.58399757e-04,  1.73245190e-04, -1.98226621e-04]])"
      ]
     },
     "execution_count": 123,
     "metadata": {},
     "output_type": "execute_result"
    }
   ],
   "source": [
    "m.coef_"
   ]
  },
  {
   "cell_type": "code",
   "execution_count": null,
   "metadata": {},
   "outputs": [],
   "source": []
  }
 ],
 "metadata": {
  "kernelspec": {
   "display_name": "Python 3",
   "language": "python",
   "name": "python3"
  },
  "language_info": {
   "codemirror_mode": {
    "name": "ipython",
    "version": 3
   },
   "file_extension": ".py",
   "mimetype": "text/x-python",
   "name": "python",
   "nbconvert_exporter": "python",
   "pygments_lexer": "ipython3",
   "version": "3.6.6"
  }
 },
 "nbformat": 4,
 "nbformat_minor": 2
}
