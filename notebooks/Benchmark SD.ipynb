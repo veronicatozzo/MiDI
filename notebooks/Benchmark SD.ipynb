{
 "cells": [
  {
   "cell_type": "code",
   "execution_count": 6,
   "metadata": {},
   "outputs": [],
   "source": [
    "import numpy as np\n",
    "import pandas as pd\n",
    "import torch\n",
    "from importlib import reload\n",
    "from sklearn.model_selection import StratifiedShuffleSplit\n",
    "from sklearn.metrics import balanced_accuracy_score"
   ]
  },
  {
   "cell_type": "code",
   "execution_count": 7,
   "metadata": {},
   "outputs": [],
   "source": [
    "rna_seq = np.load(\"/home/vero/projects/camda/NB/data_cleaned/dataset_rnaseq_genes_145subjects_17072genes.npy\")\n",
    "acgh = np.load(\"/home/vero/projects/camda/NB/data_cleaned/dataset_1mb_aCGH.npy\")\n",
    "clinical = np.load(\"/home/vero/projects/camda/NB/data_cleaned/dataset_clinical_data_for_fit.npy\")\n",
    "\n",
    "stages = np.load(\"/home/vero/projects/camda/NB/data_cleaned/dataset_stages.npy\")\n",
    "stages = np.array(stages).flatten().astype(str)\n",
    "#stages\n",
    "\n",
    "y = np.load(\"/home/vero/projects/camda/NB/data_cleaned/dataset_outputs.npy\")\n",
    "mergeable = pd.read_csv(\"/home/vero/projects/camda/NB/data_cleaned/clinical_data_for_fit.csv\", index_col=0)\n",
    "clinical_HR = pd.read_csv(\"/home/vero/projects/camda/NB/data_cleaned/info_patients_clinical.csv\", \n",
    "                          index_col=0)['high_risk2']\n",
    "clinical_HR.sort_index()\n",
    "HR = clinical_HR.loc[mergeable.index].values\n",
    "HR[np.where(HR=='HR')] = '1'\n",
    "HR = HR.astype(int)"
   ]
  },
  {
   "cell_type": "markdown",
   "metadata": {},
   "source": [
    "# benchmark single dataset"
   ]
  },
  {
   "cell_type": "code",
   "execution_count": 8,
   "metadata": {},
   "outputs": [],
   "source": [
    "import midi.utils; reload(midi.utils)\n",
    "from midi.utils import benchmark_with_multiple_models"
   ]
  },
  {
   "cell_type": "markdown",
   "metadata": {},
   "source": [
    "## Prediction with RNA-Seq"
   ]
  },
  {
   "cell_type": "code",
   "execution_count": 9,
   "metadata": {},
   "outputs": [],
   "source": [
    "y = y[:,1]"
   ]
  },
  {
   "cell_type": "code",
   "execution_count": null,
   "metadata": {},
   "outputs": [],
   "source": [
    "benchmark_with_multiple_models(rna_seq, y, models=[\"RandomForest\"],n_of_repetitions=5,\n",
    "    params_range=[np.linspace(0,100, 20)],# np.logspace(-10, 10, 50), np.logspace(-10, 10, 50), np.linspace(1,100,2).astype(int)],\n",
    "    verbose=1, filename='/home/vero/projects/neuroblastoma/data_integration/results/benchmark_rna_seq.pkl')"
   ]
  },
  {
   "cell_type": "markdown",
   "metadata": {},
   "source": [
    "### results with logistic regression"
   ]
  },
  {
   "cell_type": "code",
   "execution_count": null,
   "metadata": {},
   "outputs": [],
   "source": [
    "from sklearn.linear_model import LogisticRegressionCV\n",
    "\n",
    "\n",
    "tr_scores = []\n",
    "ts_scores = []\n",
    "parameters = []\n",
    "val_scores = []\n",
    "sss = StratifiedShuffleSplit(n_splits=100)\n",
    "for train, test in sss.split(rna_seq, y):\n",
    "    sss_ = StratifiedKFold(n_splits=3)\n",
    "    x_tr = rna_seq[train,:]\n",
    "    y_tr = y[train]\n",
    "    x_ts = rna_seq[test, :]\n",
    "    y_ts = y[test]\n",
    "    lr = LogisticRegressionCV(Cs=np.logspace(-10,10,50))\n",
    "    lr.fit(x_tr, y_tr)\n",
    "    parameters.append(lr.C_)\n",
    "    val_scores.append(lr.scores_)\n",
    "    tr_scores.append(balanced_accuracy_score(y_tr, lr.predict(x_tr)))\n",
    "    ts_scores.append(balanced_accuracy_score(y_ts, lr.predict(x_ts)))"
   ]
  },
  {
   "cell_type": "code",
   "execution_count": null,
   "metadata": {},
   "outputs": [],
   "source": [
    "means_tr = np.mean(tr_scores)\n",
    "std_tr = np.std(tr_scores)\n",
    "means_ts = np.mean(ts_scores)\n",
    "std_ts = np.std(ts_scores)\n",
    "print(means_tr, std_tr, means_ts, std_ts, parameters)"
   ]
  },
  {
   "cell_type": "code",
   "execution_count": null,
   "metadata": {},
   "outputs": [],
   "source": [
    "res = pd.DataFrame([[means_tr, std_tr, means_ts, std_ts, parameters, tr_scores, ts_scores, val_scores]],\n",
    "                   columns=columns, index=['Logisticregression'])\n",
    "df_results = df_results.append(res)"
   ]
  },
  {
   "cell_type": "markdown",
   "metadata": {},
   "source": [
    "### results with Ridge"
   ]
  },
  {
   "cell_type": "code",
   "execution_count": null,
   "metadata": {},
   "outputs": [],
   "source": [
    "from sklearn.linear_model import RidgeClassifierCV\n",
    "\n",
    "\n",
    "tr_scores = []\n",
    "ts_scores = []\n",
    "parameters = []\n",
    "val_scores = []\n",
    "sss = StratifiedShuffleSplit(n_splits=100)\n",
    "for train, test in sss.split(rna_seq, y):\n",
    "    sss_ = StratifiedKFold(n_splits=3)\n",
    "    x_tr = rna_seq[train,:]\n",
    "    y_tr = y[train]\n",
    "    x_ts = rna_seq[test, :]\n",
    "    y_ts = y[test]\n",
    "    model = RidgeClassifierCV(alphas=np.logspace(-10,10,50), store_cv_values=True)\n",
    "    model.fit(x_tr, y_tr)\n",
    "    parameters.append(model.alpha_)\n",
    "    val_scores.append(model.cv_values_)\n",
    "    tr_scores.append(balanced_accuracy_score(y_tr, model.predict(x_tr)))\n",
    "    ts_scores.append(balanced_accuracy_score(y_ts, model.predict(x_ts)))\n",
    "    "
   ]
  },
  {
   "cell_type": "code",
   "execution_count": null,
   "metadata": {},
   "outputs": [],
   "source": [
    "means_tr = np.mean(tr_scores)\n",
    "std_tr = np.std(tr_scores)\n",
    "means_ts = np.mean(ts_scores)\n",
    "std_ts = np.std(ts_scores)\n",
    "print(means_tr, std_tr, means_ts, std_ts)"
   ]
  },
  {
   "cell_type": "code",
   "execution_count": null,
   "metadata": {},
   "outputs": [],
   "source": [
    "res = pd.DataFrame([[means_tr, std_tr, means_ts, std_ts, parameters, tr_scores, ts_scores, val_scores]],\n",
    "                   columns=columns, index=['RidgeClassifier'])\n",
    "df_results = df_results.append(res)"
   ]
  },
  {
   "cell_type": "markdown",
   "metadata": {},
   "source": [
    "### results with SVM"
   ]
  },
  {
   "cell_type": "code",
   "execution_count": null,
   "metadata": {},
   "outputs": [],
   "source": [
    "from sklearn.svm import LinearSVC\n",
    "from sklearn.model_selection import GridSearchCV\n",
    "\n",
    "\n",
    "tr_scores = []\n",
    "ts_scores = []\n",
    "parameters = []\n",
    "val_scores = []\n",
    "sss = StratifiedShuffleSplit(n_splits=100)\n",
    "for train, test in sss.split(rna_seq, y):\n",
    "    sss_ = StratifiedKFold(n_splits=3)\n",
    "    x_tr = rna_seq[train,:]\n",
    "    y_tr = y[train]\n",
    "    x_ts = rna_seq[test, :]\n",
    "    y_ts = y[test]\n",
    "    model = LinearSVC()\n",
    "    gscv = GridSearchCV(model, {'C':np.logspace(-10,10,50)}, cv=3)\n",
    "    gscv.fit(x_tr, y_tr)\n",
    "    model = gscv.best_estimator_\n",
    "    parameters.append(gscv.best_params_['C'])\n",
    "    val_scores.append(gscv.cv_results_)\n",
    "    tr_scores.append(balanced_accuracy_score(y_tr, model.predict(x_tr)))\n",
    "    ts_scores.append(balanced_accuracy_score(y_ts, model.predict(x_ts)))\n",
    "    "
   ]
  },
  {
   "cell_type": "code",
   "execution_count": null,
   "metadata": {},
   "outputs": [],
   "source": [
    "means_tr = np.mean(tr_scores)\n",
    "std_tr = np.std(tr_scores)\n",
    "means_ts = np.mean(ts_scores)\n",
    "std_ts = np.std(ts_scores)\n",
    "print(means_tr, std_tr, means_ts, std_ts)"
   ]
  },
  {
   "cell_type": "code",
   "execution_count": null,
   "metadata": {},
   "outputs": [],
   "source": [
    "es = pd.DataFrame([[means_tr, std_tr, means_ts, std_ts, parameters, tr_scores, ts_scores, val_scores]],\n",
    "                   columns=columns, index=['SVM-l2'])\n",
    "df_results = df_results.append(es)"
   ]
  },
  {
   "cell_type": "code",
   "execution_count": null,
   "metadata": {},
   "outputs": [],
   "source": [
    "df_results"
   ]
  },
  {
   "cell_type": "markdown",
   "metadata": {},
   "source": [
    "### results with Random Forest"
   ]
  },
  {
   "cell_type": "code",
   "execution_count": null,
   "metadata": {},
   "outputs": [],
   "source": [
    "from sklearn.ensemble import RandomForestClassifier\n",
    "\n",
    "tr_scores = []\n",
    "ts_scores = []\n",
    "parameters = []\n",
    "val_scores = []\n",
    "sss = StratifiedShuffleSplit(n_splits=100)\n",
    "for train, test in sss.split(rna_seq, y):\n",
    "    sss_ = StratifiedKFold(n_splits=3)\n",
    "    x_tr = rna_seq[train,:]\n",
    "    y_tr = y[train]\n",
    "    x_ts = rna_seq[test, :]\n",
    "    y_ts = y[test]\n",
    "    model = RandomForestClassifier()\n",
    "    gscv = GridSearchCV(model, {'n_estimators':np.array(np.linspace(1,100,50)).astype(int)}, cv=3)\n",
    "    gscv.fit(x_tr, y_tr)\n",
    "    model = gscv.best_estimator_\n",
    "    parameters.append(gscv.best_params_['n_estimators'])\n",
    "    val_scores.append(gscv.cv_results_)\n",
    "    tr_scores.append(balanced_accuracy_score(y_tr, model.predict(x_tr)))\n",
    "    ts_scores.append(balanced_accuracy_score(y_ts, model.predict(x_ts)))"
   ]
  },
  {
   "cell_type": "code",
   "execution_count": null,
   "metadata": {},
   "outputs": [],
   "source": [
    "means_tr = np.mean(tr_scores)\n",
    "std_tr = np.std(tr_scores)\n",
    "means_ts = np.mean(ts_scores)\n",
    "std_ts = np.std(ts_scores)\n",
    "print(means_tr, std_tr, means_ts, std_ts)"
   ]
  },
  {
   "cell_type": "code",
   "execution_count": null,
   "metadata": {},
   "outputs": [],
   "source": [
    "res = pd.DataFrame([[means_tr, std_tr, means_ts, std_ts, parameters, tr_scores, ts_scores, val_scores]],\n",
    "                   columns=columns, index=['RF'])\n",
    "df_results = df_results.append(res)"
   ]
  },
  {
   "cell_type": "code",
   "execution_count": null,
   "metadata": {},
   "outputs": [],
   "source": [
    "df_results"
   ]
  },
  {
   "cell_type": "code",
   "execution_count": null,
   "metadata": {},
   "outputs": [],
   "source": [
    "df_results_new = df_results.iloc[[0,1,4,5], :]"
   ]
  },
  {
   "cell_type": "code",
   "execution_count": null,
   "metadata": {},
   "outputs": [],
   "source": [
    "df_results_new"
   ]
  },
  {
   "cell_type": "code",
   "execution_count": null,
   "metadata": {},
   "outputs": [],
   "source": [
    "a = np.linspace(1,100,5).astype(int)"
   ]
  },
  {
   "cell_type": "code",
   "execution_count": null,
   "metadata": {},
   "outputs": [],
   "source": [
    "b = [a]*4"
   ]
  },
  {
   "cell_type": "code",
   "execution_count": null,
   "metadata": {},
   "outputs": [],
   "source": [
    "b"
   ]
  },
  {
   "cell_type": "code",
   "execution_count": null,
   "metadata": {},
   "outputs": [],
   "source": [
    "df_results_new.to_p"
   ]
  }
 ],
 "metadata": {
  "kernelspec": {
   "display_name": "Python 3",
   "language": "python",
   "name": "python3"
  }
 },
 "nbformat": 4,
 "nbformat_minor": 2
}
